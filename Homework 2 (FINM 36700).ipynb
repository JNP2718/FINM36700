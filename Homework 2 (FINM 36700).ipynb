{
 "cells": [
  {
   "cell_type": "markdown",
   "id": "e557ef89-7ae1-46af-9aa6-9e6faf973a46",
   "metadata": {},
   "source": [
    "# Homework 2\n",
    "## Group A 23 - Benjamin Panovich, Dennis Hua, Tianyang Bao, Joseph Padilla \n",
    "## 2 Analyzing the Data"
   ]
  },
  {
   "cell_type": "code",
   "execution_count": 86,
   "id": "fd3bbfc2-a20d-4f5d-9eda-04ba06711ef6",
   "metadata": {},
   "outputs": [],
   "source": [
    "import pandas as pd\n",
    "import numpy as np\n",
    "import statsmodels.api as sm\n",
    "from statsmodels.regression.rolling import RollingOLS\n",
    "from sklearn.linear_model import LinearRegression\n",
    "import matplotlib.pyplot as plt\n",
    "import seaborn as sns\n",
    "import warnings\n",
    "warnings.filterwarnings(\"ignore\")"
   ]
  },
  {
   "cell_type": "code",
   "execution_count": 87,
   "id": "c09fd4cc-b00f-441b-b447-9357c500cb73",
   "metadata": {},
   "outputs": [],
   "source": [
    "df = pd.ExcelFile(r'C:\\Users\\jnpad\\OneDrive\\Desktop\\University of Chicago\\FINM\\03. Autumn Quarter 2022\\Portfolio Theory and Risk Management I\\Homework\\Homework 2\\proshares_analysis_data.xlsx')\n",
    "\n",
    "HFS = pd.read_excel(df, sheet_name = 'hedge_fund_series')\n",
    "HFS = HFS.set_index('Date')\n",
    "\n",
    "# Note, we edited excel to include the label \"Date\" for the date column\n",
    "\n",
    "factor_data = pd.read_excel(df, sheet_name = 'merrill_factors')\n",
    "factor_data = factor_data.set_index('Date')"
   ]
  },
  {
   "cell_type": "code",
   "execution_count": 88,
   "id": "bcf162e0-b7f6-4fff-bbfe-14ed368b054d",
   "metadata": {},
   "outputs": [],
   "source": [
    "def summary_stats(df, annual_fac):\n",
    "    report = pd.DataFrame()\n",
    "    report['Mean'] = df.mean() * annual_fac\n",
    "    report['Vol'] = df.std() * np.sqrt(annual_fac)\n",
    "    report['Sharpe'] = report['Mean'] / report['Vol']\n",
    "    return round(report, 4)"
   ]
  },
  {
   "cell_type": "code",
   "execution_count": 89,
   "id": "a5f01bcb-c3b3-4a46-b53e-399598473fac",
   "metadata": {},
   "outputs": [],
   "source": [
    "def tail_risk_report(data, q):\n",
    "    df = data.copy()\n",
    "    df.index = data.index.date\n",
    "    report = pd.DataFrame(columns = df.columns)\n",
    "    \n",
    "    report.loc['Skewness'] = df.skew()\n",
    "    report.loc['Excess Kurtosis'] = df.kurtosis()\n",
    "    report.loc['VaR'] = df.quantile(q)\n",
    "    report.loc['Expected Shortfall'] = df[df < df.quantile(q)].mean()\n",
    "    \n",
    "    cum_ret = (1 + df).cumprod()\n",
    "    rolling_max = cum_ret.cummax()\n",
    "    drawdown = (cum_ret - rolling_max) / rolling_max\n",
    "    report.loc['Max Drawdown'] = drawdown.min()\n",
    "    report.loc['MDD Start'] = None\n",
    "    report.loc['MDD End'] = drawdown.idxmin()\n",
    "    report.loc['Recovery Date'] = None\n",
    "    \n",
    "    for col in df.columns:\n",
    "        report.loc['MDD Start', col] = (rolling_max.loc[:report.loc['MDD End', col]])[col].idxmax()\n",
    "        recovery_df = (drawdown.loc[report.loc['MDD End', col]:])[col]\n",
    "        # modify the threshold for recovery from 0 to 0.001\n",
    "        try:\n",
    "            report.loc['Recovery Date', col] = recovery_df[recovery_df >= 0].index[0]\n",
    "            report.loc['Recovery period (days)'] = (report.loc['Recovery Date'] - report.loc['MDD Start']).dt.days\n",
    "\n",
    "        except:\n",
    "            report.loc['Recovery Date', col] = None\n",
    "            report.loc['Recovery period (days)'] = None\n",
    "\n",
    "    return round(report,4)"
   ]
  },
  {
   "cell_type": "code",
   "execution_count": 90,
   "id": "fc1b08d7-19b5-45a2-87fd-fe94b3518e00",
   "metadata": {},
   "outputs": [],
   "source": [
    "def reg_stats(df, annual_fac):\n",
    "    reg_stats = pd.DataFrame(data = None, index = df.columns, columns = ['beta', \n",
    "                                                                         'Treynor Ratio', \n",
    "                                                                         'Information Ratio'])\n",
    "    for col in df.columns:\n",
    "        # Drop the NAs in y\n",
    "        y = df[col].dropna()\n",
    "        # Align the X with y \n",
    "        X = sm.add_constant(factor_data['SPY US Equity'].loc[y.index])\n",
    "        reg = sm.OLS(y, X).fit()\n",
    "        reg_stats.loc[col, 'beta'] = reg.params[1]\n",
    "        reg_stats.loc[col, 'Treynor Ratio'] = (df[col].mean() * annual_fac) / reg.params[1]\n",
    "        reg_stats.loc[col, 'Information Ratio'] = (reg.params[0] / reg.resid.std()) * np.sqrt(annual_fac)\n",
    "\n",
    "    return reg_stats.astype(float).round(4)"
   ]
  },
  {
   "cell_type": "code",
   "execution_count": 91,
   "id": "7ae5f1c0-93d8-406a-87b6-10e0062f0df7",
   "metadata": {},
   "outputs": [],
   "source": [
    "def display_correlation(df,list_maxmin=True):\n",
    "    \n",
    "    corrmat = df.corr()\n",
    "    #ignore self-correlation\n",
    "    corrmat[corrmat==1] = None\n",
    "    sns.heatmap(corrmat)\n",
    "\n",
    "    if list_maxmin:\n",
    "        corr_rank = corrmat.unstack().sort_values().dropna()\n",
    "        pair_max = corr_rank.index[-1]\n",
    "        pair_min = corr_rank.index[0]\n",
    "\n",
    "        print(f'MIN Correlation pair is {pair_min}')\n",
    "        print(f'MAX Correlation pair is {pair_max}')"
   ]
  },
  {
   "cell_type": "markdown",
   "id": "bd62ae20-cada-44f1-a568-6e12d66db719",
   "metadata": {},
   "source": [
    "### 1."
   ]
  },
  {
   "cell_type": "markdown",
   "id": "a9da409b-5bfe-41ce-8bc0-a2818ef42bb6",
   "metadata": {},
   "source": [
    "Below we display the annualized mean, volatility and Sharpe Ratio for the each of the indices and assets in the Hedge Fund series."
   ]
  },
  {
   "cell_type": "code",
   "execution_count": 107,
   "id": "c80b94bb-d23a-49ea-ac39-9d1611ab2629",
   "metadata": {},
   "outputs": [
    {
     "data": {
      "text/html": [
       "<div>\n",
       "<style scoped>\n",
       "    .dataframe tbody tr th:only-of-type {\n",
       "        vertical-align: middle;\n",
       "    }\n",
       "\n",
       "    .dataframe tbody tr th {\n",
       "        vertical-align: top;\n",
       "    }\n",
       "\n",
       "    .dataframe thead th {\n",
       "        text-align: right;\n",
       "    }\n",
       "</style>\n",
       "<table border=\"1\" class=\"dataframe\">\n",
       "  <thead>\n",
       "    <tr style=\"text-align: right;\">\n",
       "      <th></th>\n",
       "      <th>Mean</th>\n",
       "      <th>Vol</th>\n",
       "      <th>Sharpe</th>\n",
       "    </tr>\n",
       "  </thead>\n",
       "  <tbody>\n",
       "    <tr>\n",
       "      <th>HFRIFWI Index</th>\n",
       "      <td>0.0429</td>\n",
       "      <td>0.0609</td>\n",
       "      <td>0.7038</td>\n",
       "    </tr>\n",
       "    <tr>\n",
       "      <th>MLEIFCTR Index</th>\n",
       "      <td>0.0257</td>\n",
       "      <td>0.0569</td>\n",
       "      <td>0.4513</td>\n",
       "    </tr>\n",
       "    <tr>\n",
       "      <th>MLEIFCTX Index</th>\n",
       "      <td>0.0243</td>\n",
       "      <td>0.0567</td>\n",
       "      <td>0.4283</td>\n",
       "    </tr>\n",
       "    <tr>\n",
       "      <th>HDG US Equity</th>\n",
       "      <td>0.0140</td>\n",
       "      <td>0.0592</td>\n",
       "      <td>0.2365</td>\n",
       "    </tr>\n",
       "    <tr>\n",
       "      <th>QAI US Equity</th>\n",
       "      <td>0.0116</td>\n",
       "      <td>0.0489</td>\n",
       "      <td>0.2366</td>\n",
       "    </tr>\n",
       "    <tr>\n",
       "      <th>SPY US Equity</th>\n",
       "      <td>0.1213</td>\n",
       "      <td>0.1456</td>\n",
       "      <td>0.8327</td>\n",
       "    </tr>\n",
       "  </tbody>\n",
       "</table>\n",
       "</div>"
      ],
      "text/plain": [
       "                  Mean     Vol  Sharpe\n",
       "HFRIFWI Index   0.0429  0.0609  0.7038\n",
       "MLEIFCTR Index  0.0257  0.0569  0.4513\n",
       "MLEIFCTX Index  0.0243  0.0567  0.4283\n",
       "HDG US Equity   0.0140  0.0592  0.2365\n",
       "QAI US Equity   0.0116  0.0489  0.2366\n",
       "SPY US Equity   0.1213  0.1456  0.8327"
      ]
     },
     "execution_count": 107,
     "metadata": {},
     "output_type": "execute_result"
    }
   ],
   "source": [
    "summary_stats(HFS.join(factor_data['SPY US Equity']), 12)"
   ]
  },
  {
   "cell_type": "markdown",
   "id": "67283fd3-4dc8-481d-bb09-bee932eb9419",
   "metadata": {},
   "source": [
    "### 2. "
   ]
  },
  {
   "cell_type": "markdown",
   "id": "5d725337-a139-4b5d-a255-8780101e4bef",
   "metadata": {},
   "source": [
    "Below we display the skewness, excess kurtosis, VaR, CVaR, and max drawdown for each of the indices and assets in the Hedge Fund series. The HFRIFWI Index has notably higher kurtosis than the other indices/assets in the series."
   ]
  },
  {
   "cell_type": "code",
   "execution_count": 105,
   "id": "27f51796-edbb-4a07-a8da-4fd8afe33e33",
   "metadata": {},
   "outputs": [
    {
     "data": {
      "text/html": [
       "<div>\n",
       "<style scoped>\n",
       "    .dataframe tbody tr th:only-of-type {\n",
       "        vertical-align: middle;\n",
       "    }\n",
       "\n",
       "    .dataframe tbody tr th {\n",
       "        vertical-align: top;\n",
       "    }\n",
       "\n",
       "    .dataframe thead th {\n",
       "        text-align: right;\n",
       "    }\n",
       "</style>\n",
       "<table border=\"1\" class=\"dataframe\">\n",
       "  <thead>\n",
       "    <tr style=\"text-align: right;\">\n",
       "      <th></th>\n",
       "      <th>HFRIFWI Index</th>\n",
       "      <th>MLEIFCTR Index</th>\n",
       "      <th>MLEIFCTX Index</th>\n",
       "      <th>HDG US Equity</th>\n",
       "      <th>QAI US Equity</th>\n",
       "      <th>SPY US Equity</th>\n",
       "    </tr>\n",
       "  </thead>\n",
       "  <tbody>\n",
       "    <tr>\n",
       "      <th>Skewness</th>\n",
       "      <td>-1.020683</td>\n",
       "      <td>-0.315513</td>\n",
       "      <td>-0.304807</td>\n",
       "      <td>-0.298573</td>\n",
       "      <td>-0.634129</td>\n",
       "      <td>-0.413602</td>\n",
       "    </tr>\n",
       "    <tr>\n",
       "      <th>Excess Kurtosis</th>\n",
       "      <td>6.163102</td>\n",
       "      <td>1.778696</td>\n",
       "      <td>1.741807</td>\n",
       "      <td>1.931106</td>\n",
       "      <td>1.913339</td>\n",
       "      <td>0.936671</td>\n",
       "    </tr>\n",
       "    <tr>\n",
       "      <th>VaR</th>\n",
       "      <td>-0.025585</td>\n",
       "      <td>-0.029652</td>\n",
       "      <td>-0.029867</td>\n",
       "      <td>-0.031528</td>\n",
       "      <td>-0.021245</td>\n",
       "      <td>-0.069215</td>\n",
       "    </tr>\n",
       "    <tr>\n",
       "      <th>Expected Shortfall</th>\n",
       "      <td>-0.039205</td>\n",
       "      <td>-0.036865</td>\n",
       "      <td>-0.036763</td>\n",
       "      <td>-0.038482</td>\n",
       "      <td>-0.034401</td>\n",
       "      <td>-0.089169</td>\n",
       "    </tr>\n",
       "    <tr>\n",
       "      <th>Max Drawdown</th>\n",
       "      <td>-0.115473</td>\n",
       "      <td>-0.124302</td>\n",
       "      <td>-0.124388</td>\n",
       "      <td>-0.14072</td>\n",
       "      <td>-0.137714</td>\n",
       "      <td>-0.239271</td>\n",
       "    </tr>\n",
       "    <tr>\n",
       "      <th>MDD Start</th>\n",
       "      <td>2019-12-31</td>\n",
       "      <td>2021-06-30</td>\n",
       "      <td>2021-06-30</td>\n",
       "      <td>2021-06-30</td>\n",
       "      <td>2021-06-30</td>\n",
       "      <td>2021-12-31</td>\n",
       "    </tr>\n",
       "    <tr>\n",
       "      <th>MDD End</th>\n",
       "      <td>2020-03-31</td>\n",
       "      <td>2022-09-30</td>\n",
       "      <td>2022-09-30</td>\n",
       "      <td>2022-09-30</td>\n",
       "      <td>2022-09-30</td>\n",
       "      <td>2022-09-30</td>\n",
       "    </tr>\n",
       "    <tr>\n",
       "      <th>Recovery Date</th>\n",
       "      <td>2020-08-31</td>\n",
       "      <td>None</td>\n",
       "      <td>None</td>\n",
       "      <td>None</td>\n",
       "      <td>None</td>\n",
       "      <td>None</td>\n",
       "    </tr>\n",
       "    <tr>\n",
       "      <th>Recovery period (days)</th>\n",
       "      <td>None</td>\n",
       "      <td>None</td>\n",
       "      <td>None</td>\n",
       "      <td>None</td>\n",
       "      <td>None</td>\n",
       "      <td>None</td>\n",
       "    </tr>\n",
       "  </tbody>\n",
       "</table>\n",
       "</div>"
      ],
      "text/plain": [
       "                       HFRIFWI Index MLEIFCTR Index MLEIFCTX Index  \\\n",
       "Skewness                   -1.020683      -0.315513      -0.304807   \n",
       "Excess Kurtosis             6.163102       1.778696       1.741807   \n",
       "VaR                        -0.025585      -0.029652      -0.029867   \n",
       "Expected Shortfall         -0.039205      -0.036865      -0.036763   \n",
       "Max Drawdown               -0.115473      -0.124302      -0.124388   \n",
       "MDD Start                 2019-12-31     2021-06-30     2021-06-30   \n",
       "MDD End                   2020-03-31     2022-09-30     2022-09-30   \n",
       "Recovery Date             2020-08-31           None           None   \n",
       "Recovery period (days)          None           None           None   \n",
       "\n",
       "                       HDG US Equity QAI US Equity SPY US Equity  \n",
       "Skewness                   -0.298573     -0.634129     -0.413602  \n",
       "Excess Kurtosis             1.931106      1.913339      0.936671  \n",
       "VaR                        -0.031528     -0.021245     -0.069215  \n",
       "Expected Shortfall         -0.038482     -0.034401     -0.089169  \n",
       "Max Drawdown                -0.14072     -0.137714     -0.239271  \n",
       "MDD Start                 2021-06-30    2021-06-30    2021-12-31  \n",
       "MDD End                   2022-09-30    2022-09-30    2022-09-30  \n",
       "Recovery Date                   None          None          None  \n",
       "Recovery period (days)          None          None          None  "
      ]
     },
     "execution_count": 105,
     "metadata": {},
     "output_type": "execute_result"
    }
   ],
   "source": [
    "tail_risk_report(HFS.join(factor_data['SPY US Equity']), 0.05)"
   ]
  },
  {
   "cell_type": "markdown",
   "id": "c7638087-1cd0-4d2c-ab54-15e3990c25b8",
   "metadata": {},
   "source": [
    "### 3."
   ]
  },
  {
   "cell_type": "markdown",
   "id": "b8829343-199a-486e-b421-d65976626bb1",
   "metadata": {},
   "source": [
    "We display the results of regressions of each index/assets against SPY below."
   ]
  },
  {
   "cell_type": "code",
   "execution_count": 106,
   "id": "ad79700a-b834-4d08-987c-2c74c0c8aa02",
   "metadata": {},
   "outputs": [
    {
     "data": {
      "text/html": [
       "<div>\n",
       "<style scoped>\n",
       "    .dataframe tbody tr th:only-of-type {\n",
       "        vertical-align: middle;\n",
       "    }\n",
       "\n",
       "    .dataframe tbody tr th {\n",
       "        vertical-align: top;\n",
       "    }\n",
       "\n",
       "    .dataframe thead th {\n",
       "        text-align: right;\n",
       "    }\n",
       "</style>\n",
       "<table border=\"1\" class=\"dataframe\">\n",
       "  <thead>\n",
       "    <tr style=\"text-align: right;\">\n",
       "      <th></th>\n",
       "      <th>beta</th>\n",
       "      <th>Treynor Ratio</th>\n",
       "      <th>Information Ratio</th>\n",
       "    </tr>\n",
       "  </thead>\n",
       "  <tbody>\n",
       "    <tr>\n",
       "      <th>HFRIFWI Index</th>\n",
       "      <td>0.3500</td>\n",
       "      <td>0.1225</td>\n",
       "      <td>0.0130</td>\n",
       "    </tr>\n",
       "    <tr>\n",
       "      <th>MLEIFCTR Index</th>\n",
       "      <td>0.3549</td>\n",
       "      <td>0.0723</td>\n",
       "      <td>-0.7315</td>\n",
       "    </tr>\n",
       "    <tr>\n",
       "      <th>MLEIFCTX Index</th>\n",
       "      <td>0.3536</td>\n",
       "      <td>0.0687</td>\n",
       "      <td>-0.7846</td>\n",
       "    </tr>\n",
       "    <tr>\n",
       "      <th>HDG US Equity</th>\n",
       "      <td>0.3631</td>\n",
       "      <td>0.0386</td>\n",
       "      <td>-1.1237</td>\n",
       "    </tr>\n",
       "    <tr>\n",
       "      <th>QAI US Equity</th>\n",
       "      <td>0.2919</td>\n",
       "      <td>0.0397</td>\n",
       "      <td>-0.9838</td>\n",
       "    </tr>\n",
       "  </tbody>\n",
       "</table>\n",
       "</div>"
      ],
      "text/plain": [
       "                  beta  Treynor Ratio  Information Ratio\n",
       "HFRIFWI Index   0.3500         0.1225             0.0130\n",
       "MLEIFCTR Index  0.3549         0.0723            -0.7315\n",
       "MLEIFCTX Index  0.3536         0.0687            -0.7846\n",
       "HDG US Equity   0.3631         0.0386            -1.1237\n",
       "QAI US Equity   0.2919         0.0397            -0.9838"
      ]
     },
     "execution_count": 106,
     "metadata": {},
     "output_type": "execute_result"
    }
   ],
   "source": [
    "reg_stats(HFS, 12)"
   ]
  },
  {
   "cell_type": "markdown",
   "id": "852d1d59-e709-400f-9d9d-910787846121",
   "metadata": {},
   "source": [
    "### 4."
   ]
  },
  {
   "cell_type": "markdown",
   "id": "320a440f-2660-411b-8d0b-a36c208df009",
   "metadata": {},
   "source": [
    "### (a)"
   ]
  },
  {
   "cell_type": "markdown",
   "id": "80ce72c0-ffe4-469b-8f10-ec22f5219b54",
   "metadata": {},
   "source": [
    "SPY has greater mean, volatility and Sharpe Ratio than the Hedge Fund series. In addition, the kurtosis for SPY is lesser than the other assets, meaning it has lesser tail risk.\n",
    "\n",
    "The Treynor Ratio measures the excess return per unit of risk assumed by the asset (a sort of reward-to-risk/volatility measure). The Information Ratio compares the return of an asset within a portfolio against a benchmark relative to the risk of the asset against the benchmark. We see that the HFRIFWI Index has a greater Treynor Ratio and Information Ratio in comparison to all the other assets in these regressions. \n",
    "\n",
    "The HFRIFWI Index is the only index/asset that has a positive Information Ratio. This indicates that it outperforms the SPY in returns over the data analyzed. The other indices/assets have negative Information Ratios, indicating that they do not outperform the SPY in returns over the data analyzed. \n",
    "\n",
    "The betas across the indices/assets are relatively within the same range (~0.30) indicating that SPY accounts for a similar amount of return across the indices/assets."
   ]
  },
  {
   "cell_type": "markdown",
   "id": "d333dda2-4a91-464a-9150-934cd9c63dad",
   "metadata": {},
   "source": [
    "### (b)"
   ]
  },
  {
   "cell_type": "markdown",
   "id": "2c1072bd-4544-43f0-8357-9471de292a73",
   "metadata": {},
   "source": [
    "The QAI performs better than HDG as indicated by the Treynor Ratio and Information Ratio. A greater Treynor Ratio means QAI provides greater excess returns per unit of risk assumed or for a given amount of excess returns, the per unit risk is lesser than that of HDG. A greater Information Ratio indicates that QAI performs better against the benchmark (SPY) than does HDG, relative to the risk of QAI against the benchmark, or that for a given amount of return against the benchmark, QAI has lower risk against the benchmark in comparison to HDG. \n",
    "\n",
    "It should be noted however, that the positive Treynor Ratio for both QAI and HDG indicate that they have positive excess returns (against the risk free rate), while the negative Informatio Ratio indicates that both QAI and HDG do not outperform SPY.\n",
    "\n",
    "Additionally, QAI is less correlated to SPY."
   ]
  },
  {
   "cell_type": "markdown",
   "id": "482ba0b0-3bc4-48dc-846b-75ddbad5fca1",
   "metadata": {},
   "source": [
    "### (c)"
   ]
  },
  {
   "cell_type": "markdown",
   "id": "9a85a8ec-bf1c-41b7-b68a-12da02e7aab7",
   "metadata": {},
   "source": [
    "The most notable properties of the HFRI would be the positive Information Ratio and greater Treynor Ratio. HDG and the ML series do not capture these properties, as they both have negative Information Ratios and their Treynor Ratios are less than that of HFRI."
   ]
  },
  {
   "cell_type": "markdown",
   "id": "89a263e5-dc08-4b1c-8c17-bf44396f0f2b",
   "metadata": {},
   "source": [
    "### 5. "
   ]
  },
  {
   "cell_type": "markdown",
   "id": "641f97cf-4e58-49af-92cb-2e5b6c1b4100",
   "metadata": {},
   "source": [
    "We display the correlation matrix for these assets below as well as the max and min correlation pairs."
   ]
  },
  {
   "cell_type": "code",
   "execution_count": 96,
   "id": "22466d3c-85f5-424d-93d2-21d061f79278",
   "metadata": {},
   "outputs": [
    {
     "name": "stdout",
     "output_type": "stream",
     "text": [
      "MIN Correlation pair is ('HFRIFWI Index', 'SPY US Equity')\n",
      "MAX Correlation pair is ('MLEIFCTR Index', 'MLEIFCTX Index')\n"
     ]
    },
    {
     "data": {
      "image/png": "[encoded data removed]",
      "text/plain": [
       "<Figure size 432x288 with 2 Axes>"
      ]
     },
     "metadata": {
      "needs_background": "light"
     },
     "output_type": "display_data"
    }
   ],
   "source": [
    "display_correlation(HFS.join(factor_data['SPY US Equity']), True)"
   ]
  },
  {
   "cell_type": "markdown",
   "id": "16efaaac-650e-4582-ad36-32b0ba1769c1",
   "metadata": {},
   "source": [
    "### 6. \n",
    "### (a)"
   ]
  },
  {
   "cell_type": "markdown",
   "id": "b9607ecb-39c8-421d-85fa-4262a6bf1288",
   "metadata": {},
   "source": [
    "We run the regression of HFRIFWI Index on each of the six factors and report the intercept and betas below."
   ]
  },
  {
   "cell_type": "code",
   "execution_count": 97,
   "id": "09123a90-f3a7-4780-80e8-9ede877c9ce4",
   "metadata": {},
   "outputs": [],
   "source": [
    "y = HFS['HFRIFWI Index']\n",
    "X = sm.add_constant(factor_data)\n",
    "static_model = sm.OLS(y,X).fit()"
   ]
  },
  {
   "cell_type": "code",
   "execution_count": 98,
   "id": "f9cc19c0-9fc4-46a7-ac90-215f08ce3d17",
   "metadata": {},
   "outputs": [
    {
     "data": {
      "text/html": [
       "<div>\n",
       "<style scoped>\n",
       "    .dataframe tbody tr th:only-of-type {\n",
       "        vertical-align: middle;\n",
       "    }\n",
       "\n",
       "    .dataframe tbody tr th {\n",
       "        vertical-align: top;\n",
       "    }\n",
       "\n",
       "    .dataframe thead th {\n",
       "        text-align: right;\n",
       "    }\n",
       "</style>\n",
       "<table border=\"1\" class=\"dataframe\">\n",
       "  <thead>\n",
       "    <tr style=\"text-align: right;\">\n",
       "      <th></th>\n",
       "      <th>Regression Parameters</th>\n",
       "    </tr>\n",
       "  </thead>\n",
       "  <tbody>\n",
       "    <tr>\n",
       "      <th>const</th>\n",
       "      <td>0.001142</td>\n",
       "    </tr>\n",
       "    <tr>\n",
       "      <th>SPY US Equity</th>\n",
       "      <td>0.025589</td>\n",
       "    </tr>\n",
       "    <tr>\n",
       "      <th>USGG3M Index</th>\n",
       "      <td>0.834569</td>\n",
       "    </tr>\n",
       "    <tr>\n",
       "      <th>EEM US Equity</th>\n",
       "      <td>0.074135</td>\n",
       "    </tr>\n",
       "    <tr>\n",
       "      <th>EFA US Equity</th>\n",
       "      <td>0.105604</td>\n",
       "    </tr>\n",
       "    <tr>\n",
       "      <th>EUO US Equity</th>\n",
       "      <td>0.023240</td>\n",
       "    </tr>\n",
       "    <tr>\n",
       "      <th>IWM US Equity</th>\n",
       "      <td>0.147375</td>\n",
       "    </tr>\n",
       "  </tbody>\n",
       "</table>\n",
       "</div>"
      ],
      "text/plain": [
       "               Regression Parameters\n",
       "const                       0.001142\n",
       "SPY US Equity               0.025589\n",
       "USGG3M Index                0.834569\n",
       "EEM US Equity               0.074135\n",
       "EFA US Equity               0.105604\n",
       "EUO US Equity               0.023240\n",
       "IWM US Equity               0.147375"
      ]
     },
     "execution_count": 98,
     "metadata": {},
     "output_type": "execute_result"
    }
   ],
   "source": [
    "static_model.params.to_frame('Regression Parameters')"
   ]
  },
  {
   "cell_type": "markdown",
   "id": "14243590-02d4-4cc4-b046-7fec5e0379ca",
   "metadata": {},
   "source": [
    "### (b)"
   ]
  },
  {
   "cell_type": "markdown",
   "id": "d4348d66-9cae-463a-b4d8-c4ec0b47cef2",
   "metadata": {},
   "source": [
    "The betas seem to be realistic position sizes as the are between 0 and 1 and sum to just over 1 (~1.2). This is to say we neither have to take huge long or short positions but can replicate the HFRIFWI Index with reasonable fractions of an amount invested in each factor, with manageable long/short positions."
   ]
  },
  {
   "cell_type": "markdown",
   "id": "07d8ab30-bfd2-42d5-a11c-3b8d52de562b",
   "metadata": {},
   "source": [
    "### (c)"
   ]
  },
  {
   "cell_type": "markdown",
   "id": "689efc8d-1af5-41a7-ae81-04523d6bc53c",
   "metadata": {},
   "source": [
    "The R-squared is given by:"
   ]
  },
  {
   "cell_type": "code",
   "execution_count": 99,
   "id": "4e81ec09-c5bb-48c9-aade-c9e3d7e5aa8e",
   "metadata": {},
   "outputs": [
    {
     "data": {
      "text/plain": [
       "0.8213"
      ]
     },
     "execution_count": 99,
     "metadata": {},
     "output_type": "execute_result"
    }
   ],
   "source": [
    "round(static_model.rsquared,4)"
   ]
  },
  {
   "cell_type": "markdown",
   "id": "16bc0867-cbe4-4b43-8743-2f0d4396b72c",
   "metadata": {},
   "source": [
    "### (d)"
   ]
  },
  {
   "cell_type": "markdown",
   "id": "16c880c8-5837-4c5d-8488-b13fb0621fee",
   "metadata": {},
   "source": [
    "The volatility of the tracking error is given by:"
   ]
  },
  {
   "cell_type": "code",
   "execution_count": 100,
   "id": "fd229ab4-6030-4b3e-ac22-ea46df996fb1",
   "metadata": {},
   "outputs": [
    {
     "data": {
      "text/plain": [
       "0.0258"
      ]
     },
     "execution_count": 100,
     "metadata": {},
     "output_type": "execute_result"
    }
   ],
   "source": [
    "round(static_model.resid.std() * np.sqrt(12),4)"
   ]
  },
  {
   "cell_type": "markdown",
   "id": "2354aa9b-b5c0-4873-9376-04bf34dbf8f9",
   "metadata": {},
   "source": [
    "### 7."
   ]
  },
  {
   "cell_type": "code",
   "execution_count": 101,
   "id": "fb69437e-bbb0-4efd-a8de-129128a94b42",
   "metadata": {},
   "outputs": [
    {
     "data": {
      "text/html": [
       "<div>\n",
       "<style scoped>\n",
       "    .dataframe tbody tr th:only-of-type {\n",
       "        vertical-align: middle;\n",
       "    }\n",
       "\n",
       "    .dataframe tbody tr th {\n",
       "        vertical-align: top;\n",
       "    }\n",
       "\n",
       "    .dataframe thead th {\n",
       "        text-align: right;\n",
       "    }\n",
       "</style>\n",
       "<table border=\"1\" class=\"dataframe\">\n",
       "  <thead>\n",
       "    <tr style=\"text-align: right;\">\n",
       "      <th></th>\n",
       "      <th>const</th>\n",
       "      <th>SPY US Equity</th>\n",
       "      <th>USGG3M Index</th>\n",
       "      <th>EEM US Equity</th>\n",
       "      <th>EFA US Equity</th>\n",
       "      <th>EUO US Equity</th>\n",
       "      <th>IWM US Equity</th>\n",
       "    </tr>\n",
       "    <tr>\n",
       "      <th>Date</th>\n",
       "      <th></th>\n",
       "      <th></th>\n",
       "      <th></th>\n",
       "      <th></th>\n",
       "      <th></th>\n",
       "      <th></th>\n",
       "      <th></th>\n",
       "    </tr>\n",
       "  </thead>\n",
       "  <tbody>\n",
       "    <tr>\n",
       "      <th>2011-08-31</th>\n",
       "      <td>NaN</td>\n",
       "      <td>NaN</td>\n",
       "      <td>NaN</td>\n",
       "      <td>NaN</td>\n",
       "      <td>NaN</td>\n",
       "      <td>NaN</td>\n",
       "      <td>NaN</td>\n",
       "    </tr>\n",
       "    <tr>\n",
       "      <th>2011-09-30</th>\n",
       "      <td>NaN</td>\n",
       "      <td>NaN</td>\n",
       "      <td>NaN</td>\n",
       "      <td>NaN</td>\n",
       "      <td>NaN</td>\n",
       "      <td>NaN</td>\n",
       "      <td>NaN</td>\n",
       "    </tr>\n",
       "    <tr>\n",
       "      <th>2011-10-31</th>\n",
       "      <td>NaN</td>\n",
       "      <td>NaN</td>\n",
       "      <td>NaN</td>\n",
       "      <td>NaN</td>\n",
       "      <td>NaN</td>\n",
       "      <td>NaN</td>\n",
       "      <td>NaN</td>\n",
       "    </tr>\n",
       "    <tr>\n",
       "      <th>2011-11-30</th>\n",
       "      <td>NaN</td>\n",
       "      <td>NaN</td>\n",
       "      <td>NaN</td>\n",
       "      <td>NaN</td>\n",
       "      <td>NaN</td>\n",
       "      <td>NaN</td>\n",
       "      <td>NaN</td>\n",
       "    </tr>\n",
       "    <tr>\n",
       "      <th>2011-12-31</th>\n",
       "      <td>NaN</td>\n",
       "      <td>NaN</td>\n",
       "      <td>NaN</td>\n",
       "      <td>NaN</td>\n",
       "      <td>NaN</td>\n",
       "      <td>NaN</td>\n",
       "      <td>NaN</td>\n",
       "    </tr>\n",
       "    <tr>\n",
       "      <th>...</th>\n",
       "      <td>...</td>\n",
       "      <td>...</td>\n",
       "      <td>...</td>\n",
       "      <td>...</td>\n",
       "      <td>...</td>\n",
       "      <td>...</td>\n",
       "      <td>...</td>\n",
       "    </tr>\n",
       "    <tr>\n",
       "      <th>2022-05-31</th>\n",
       "      <td>0.004084</td>\n",
       "      <td>0.014981</td>\n",
       "      <td>-2.033076</td>\n",
       "      <td>0.108451</td>\n",
       "      <td>0.115181</td>\n",
       "      <td>0.033973</td>\n",
       "      <td>0.175357</td>\n",
       "    </tr>\n",
       "    <tr>\n",
       "      <th>2022-06-30</th>\n",
       "      <td>0.004204</td>\n",
       "      <td>0.011314</td>\n",
       "      <td>-2.009264</td>\n",
       "      <td>0.106422</td>\n",
       "      <td>0.111324</td>\n",
       "      <td>0.028605</td>\n",
       "      <td>0.181174</td>\n",
       "    </tr>\n",
       "    <tr>\n",
       "      <th>2022-07-31</th>\n",
       "      <td>0.004532</td>\n",
       "      <td>0.001035</td>\n",
       "      <td>-2.399443</td>\n",
       "      <td>0.118317</td>\n",
       "      <td>0.107350</td>\n",
       "      <td>0.020165</td>\n",
       "      <td>0.176503</td>\n",
       "    </tr>\n",
       "    <tr>\n",
       "      <th>2022-08-31</th>\n",
       "      <td>0.004210</td>\n",
       "      <td>-0.001067</td>\n",
       "      <td>-1.796845</td>\n",
       "      <td>0.128498</td>\n",
       "      <td>0.076688</td>\n",
       "      <td>0.018624</td>\n",
       "      <td>0.189947</td>\n",
       "    </tr>\n",
       "    <tr>\n",
       "      <th>2022-09-30</th>\n",
       "      <td>0.003941</td>\n",
       "      <td>-0.045773</td>\n",
       "      <td>-0.356888</td>\n",
       "      <td>0.086782</td>\n",
       "      <td>0.090389</td>\n",
       "      <td>0.005495</td>\n",
       "      <td>0.224953</td>\n",
       "    </tr>\n",
       "  </tbody>\n",
       "</table>\n",
       "<p>134 rows × 7 columns</p>\n",
       "</div>"
      ],
      "text/plain": [
       "               const  SPY US Equity  USGG3M Index  EEM US Equity  \\\n",
       "Date                                                               \n",
       "2011-08-31       NaN            NaN           NaN            NaN   \n",
       "2011-09-30       NaN            NaN           NaN            NaN   \n",
       "2011-10-31       NaN            NaN           NaN            NaN   \n",
       "2011-11-30       NaN            NaN           NaN            NaN   \n",
       "2011-12-31       NaN            NaN           NaN            NaN   \n",
       "...              ...            ...           ...            ...   \n",
       "2022-05-31  0.004084       0.014981     -2.033076       0.108451   \n",
       "2022-06-30  0.004204       0.011314     -2.009264       0.106422   \n",
       "2022-07-31  0.004532       0.001035     -2.399443       0.118317   \n",
       "2022-08-31  0.004210      -0.001067     -1.796845       0.128498   \n",
       "2022-09-30  0.003941      -0.045773     -0.356888       0.086782   \n",
       "\n",
       "            EFA US Equity  EUO US Equity  IWM US Equity  \n",
       "Date                                                     \n",
       "2011-08-31            NaN            NaN            NaN  \n",
       "2011-09-30            NaN            NaN            NaN  \n",
       "2011-10-31            NaN            NaN            NaN  \n",
       "2011-11-30            NaN            NaN            NaN  \n",
       "2011-12-31            NaN            NaN            NaN  \n",
       "...                   ...            ...            ...  \n",
       "2022-05-31       0.115181       0.033973       0.175357  \n",
       "2022-06-30       0.111324       0.028605       0.181174  \n",
       "2022-07-31       0.107350       0.020165       0.176503  \n",
       "2022-08-31       0.076688       0.018624       0.189947  \n",
       "2022-09-30       0.090389       0.005495       0.224953  \n",
       "\n",
       "[134 rows x 7 columns]"
      ]
     },
     "execution_count": 101,
     "metadata": {},
     "output_type": "execute_result"
    }
   ],
   "source": [
    "model = RollingOLS(y,X,window=60)\n",
    "rolling_betas = model.fit().params.copy()\n",
    "rolling_betas"
   ]
  },
  {
   "cell_type": "code",
   "execution_count": 102,
   "id": "8afe530f-a66c-41b7-802b-5cbfd8236c35",
   "metadata": {},
   "outputs": [],
   "source": [
    "rep_IS = (rolling_betas * X).sum(axis=1,skipna=False)\n",
    "rep_OOS = (rolling_betas.shift() * X).sum(axis=1,skipna=False)\n",
    "replication = HFS[['HFRIFWI Index']].copy()\n",
    "replication['Static-IS-Int'] = static_model.fittedvalues\n",
    "replication['Rolling-IS-Int'] = rep_IS\n",
    "replication['Rolling-OOS-Int'] = rep_OOS"
   ]
  },
  {
   "cell_type": "code",
   "execution_count": 103,
   "id": "93e967e1-82cd-4107-8e84-476850416892",
   "metadata": {},
   "outputs": [
    {
     "data": {
      "text/html": [
       "<div>\n",
       "<style scoped>\n",
       "    .dataframe tbody tr th:only-of-type {\n",
       "        vertical-align: middle;\n",
       "    }\n",
       "\n",
       "    .dataframe tbody tr th {\n",
       "        vertical-align: top;\n",
       "    }\n",
       "\n",
       "    .dataframe thead th {\n",
       "        text-align: right;\n",
       "    }\n",
       "</style>\n",
       "<table border=\"1\" class=\"dataframe\">\n",
       "  <thead>\n",
       "    <tr style=\"text-align: right;\">\n",
       "      <th></th>\n",
       "      <th>HFRIFWI Index</th>\n",
       "      <th>Static-IS-Int</th>\n",
       "      <th>Rolling-IS-Int</th>\n",
       "      <th>Rolling-OOS-Int</th>\n",
       "    </tr>\n",
       "  </thead>\n",
       "  <tbody>\n",
       "    <tr>\n",
       "      <th>HFRIFWI Index</th>\n",
       "      <td>1.000000</td>\n",
       "      <td>0.906244</td>\n",
       "      <td>0.930242</td>\n",
       "      <td>0.887358</td>\n",
       "    </tr>\n",
       "    <tr>\n",
       "      <th>Static-IS-Int</th>\n",
       "      <td>0.906244</td>\n",
       "      <td>1.000000</td>\n",
       "      <td>0.990015</td>\n",
       "      <td>0.986613</td>\n",
       "    </tr>\n",
       "    <tr>\n",
       "      <th>Rolling-IS-Int</th>\n",
       "      <td>0.930242</td>\n",
       "      <td>0.990015</td>\n",
       "      <td>1.000000</td>\n",
       "      <td>0.993332</td>\n",
       "    </tr>\n",
       "    <tr>\n",
       "      <th>Rolling-OOS-Int</th>\n",
       "      <td>0.887358</td>\n",
       "      <td>0.986613</td>\n",
       "      <td>0.993332</td>\n",
       "      <td>1.000000</td>\n",
       "    </tr>\n",
       "  </tbody>\n",
       "</table>\n",
       "</div>"
      ],
      "text/plain": [
       "                 HFRIFWI Index  Static-IS-Int  Rolling-IS-Int  Rolling-OOS-Int\n",
       "HFRIFWI Index         1.000000       0.906244        0.930242         0.887358\n",
       "Static-IS-Int         0.906244       1.000000        0.990015         0.986613\n",
       "Rolling-IS-Int        0.930242       0.990015        1.000000         0.993332\n",
       "Rolling-OOS-Int       0.887358       0.986613        0.993332         1.000000"
      ]
     },
     "execution_count": 103,
     "metadata": {},
     "output_type": "execute_result"
    }
   ],
   "source": [
    "replication.corr()"
   ]
  },
  {
   "cell_type": "code",
   "execution_count": 77,
   "id": "62c4f9eb-4641-4025-9928-4d92bb7b36f7",
   "metadata": {},
   "outputs": [
    {
     "data": {
      "text/plain": [
       "<AxesSubplot:xlabel='Date'>"
      ]
     },
     "execution_count": 77,
     "metadata": {},
     "output_type": "execute_result"
    },
    {
     "data": {
      "image/png": "[encoded data removed]",
      "text/plain": [
       "<Figure size 432x288 with 1 Axes>"
      ]
     },
     "metadata": {
      "needs_background": "light"
     },
     "output_type": "display_data"
    }
   ],
   "source": [
    "replication[['Rolling-OOS-Int','HFRIFWI Index']].plot()"
   ]
  },
  {
   "cell_type": "markdown",
   "id": "eee57ddc-a850-4c20-8a68-e438d0bf63aa",
   "metadata": {},
   "source": [
    "The OOS replication performs well with respect to the target. There is high correlation between the OOS replication and the HFRIFWI Index."
   ]
  },
  {
   "cell_type": "markdown",
   "id": "444859c3-cfe0-4e30-b289-b405a919434f",
   "metadata": {},
   "source": [
    "### 8.\n",
    "### (a)"
   ]
  },
  {
   "cell_type": "code",
   "execution_count": 108,
   "id": "c76d4356-007f-4f44-adb0-e3467254f7b7",
   "metadata": {},
   "outputs": [],
   "source": [
    "y = HFS['HFRIFWI Index']\n",
    "X = factor_data\n",
    "static_model_noint = sm.OLS(y,X).fit()"
   ]
  },
  {
   "cell_type": "code",
   "execution_count": 109,
   "id": "77a0ef78-55fc-4c9f-a399-ae256a85fea6",
   "metadata": {},
   "outputs": [
    {
     "data": {
      "text/html": [
       "<div>\n",
       "<style scoped>\n",
       "    .dataframe tbody tr th:only-of-type {\n",
       "        vertical-align: middle;\n",
       "    }\n",
       "\n",
       "    .dataframe tbody tr th {\n",
       "        vertical-align: top;\n",
       "    }\n",
       "\n",
       "    .dataframe thead th {\n",
       "        text-align: right;\n",
       "    }\n",
       "</style>\n",
       "<table border=\"1\" class=\"dataframe\">\n",
       "  <thead>\n",
       "    <tr style=\"text-align: right;\">\n",
       "      <th></th>\n",
       "      <th>const</th>\n",
       "      <th>SPY US Equity</th>\n",
       "      <th>USGG3M Index</th>\n",
       "      <th>EEM US Equity</th>\n",
       "      <th>EFA US Equity</th>\n",
       "      <th>EUO US Equity</th>\n",
       "      <th>IWM US Equity</th>\n",
       "    </tr>\n",
       "  </thead>\n",
       "  <tbody>\n",
       "    <tr>\n",
       "      <th>Yes Intercept</th>\n",
       "      <td>0.001142</td>\n",
       "      <td>0.025589</td>\n",
       "      <td>0.834569</td>\n",
       "      <td>0.074135</td>\n",
       "      <td>0.105604</td>\n",
       "      <td>0.023240</td>\n",
       "      <td>0.147375</td>\n",
       "    </tr>\n",
       "    <tr>\n",
       "      <th>No Intercept</th>\n",
       "      <td>NaN</td>\n",
       "      <td>0.040448</td>\n",
       "      <td>1.551706</td>\n",
       "      <td>0.073052</td>\n",
       "      <td>0.100760</td>\n",
       "      <td>0.024909</td>\n",
       "      <td>0.144352</td>\n",
       "    </tr>\n",
       "  </tbody>\n",
       "</table>\n",
       "</div>"
      ],
      "text/plain": [
       "                  const  SPY US Equity  USGG3M Index  EEM US Equity  \\\n",
       "Yes Intercept  0.001142       0.025589      0.834569       0.074135   \n",
       "No Intercept        NaN       0.040448      1.551706       0.073052   \n",
       "\n",
       "               EFA US Equity  EUO US Equity  IWM US Equity  \n",
       "Yes Intercept       0.105604       0.023240       0.147375  \n",
       "No Intercept        0.100760       0.024909       0.144352  "
      ]
     },
     "execution_count": 109,
     "metadata": {},
     "output_type": "execute_result"
    }
   ],
   "source": [
    "betas = pd.DataFrame(static_model.params,columns=['Yes Intercept']).T\n",
    "betas.loc['No Intercept'] = static_model_noint.params\n",
    "betas"
   ]
  },
  {
   "cell_type": "markdown",
   "id": "55b23a36-f765-4b29-b9bc-2484425b8599",
   "metadata": {},
   "source": [
    "Without an intercept the betas for SPY, USGG3M, EUO slightly increase indicating that a greater amount of the return on HFRIFWI is explained by these factors. It is difficult to say whether this is a statistically significant result without further analysis, but the regression are fairly similar in performance."
   ]
  },
  {
   "cell_type": "markdown",
   "id": "48d52f56-4797-4d01-abf6-876068e5bc5e",
   "metadata": {},
   "source": [
    "### (b)"
   ]
  },
  {
   "cell_type": "code",
   "execution_count": 82,
   "id": "368597b0-aab1-4a18-98d0-822f20cf43c3",
   "metadata": {},
   "outputs": [
    {
     "name": "stdout",
     "output_type": "stream",
     "text": [
      "The mean of the fitted value is 0.0348\n"
     ]
    }
   ],
   "source": [
    "print(\"The mean of the fitted value is\", round(static_model_noint.fittedvalues.mean(),4)*12)"
   ]
  },
  {
   "cell_type": "code",
   "execution_count": 84,
   "id": "5c333e0a-ade5-490d-b36c-a5e039303471",
   "metadata": {},
   "outputs": [
    {
     "name": "stdout",
     "output_type": "stream",
     "text": [
      "The mean of the HFRI is 0.0432\n"
     ]
    }
   ],
   "source": [
    "print(\"The mean of the HFRI is\",round(HFS['HFRIFWI Index'].mean(),4)*12)"
   ]
  },
  {
   "cell_type": "markdown",
   "id": "9a509a09-74b1-48b8-9ba7-dc3b7ca76920",
   "metadata": {},
   "source": [
    "The mean of the fitted value approximates the mean of the HFRI, although it is still lesser than HFRI mean."
   ]
  },
  {
   "cell_type": "markdown",
   "id": "5637b928-cce2-4802-85da-9bb4af667c13",
   "metadata": {},
   "source": [
    "### (c)"
   ]
  },
  {
   "cell_type": "code",
   "execution_count": 110,
   "id": "6281533f-506b-4a9f-a353-51fd5ec69d91",
   "metadata": {},
   "outputs": [
    {
     "data": {
      "text/html": [
       "<div>\n",
       "<style scoped>\n",
       "    .dataframe tbody tr th:only-of-type {\n",
       "        vertical-align: middle;\n",
       "    }\n",
       "\n",
       "    .dataframe tbody tr th {\n",
       "        vertical-align: top;\n",
       "    }\n",
       "\n",
       "    .dataframe thead th {\n",
       "        text-align: right;\n",
       "    }\n",
       "</style>\n",
       "<table border=\"1\" class=\"dataframe\">\n",
       "  <thead>\n",
       "    <tr style=\"text-align: right;\">\n",
       "      <th></th>\n",
       "      <th>HFRIFWI Index</th>\n",
       "      <th>Static-IS-Int</th>\n",
       "      <th>Rolling-IS-Int</th>\n",
       "      <th>Rolling-OOS-Int</th>\n",
       "      <th>Static-IS-NoInt</th>\n",
       "    </tr>\n",
       "  </thead>\n",
       "  <tbody>\n",
       "    <tr>\n",
       "      <th>HFRIFWI Index</th>\n",
       "      <td>1.000000</td>\n",
       "      <td>0.906244</td>\n",
       "      <td>0.930242</td>\n",
       "      <td>0.887358</td>\n",
       "      <td>0.905696</td>\n",
       "    </tr>\n",
       "    <tr>\n",
       "      <th>Static-IS-Int</th>\n",
       "      <td>0.906244</td>\n",
       "      <td>1.000000</td>\n",
       "      <td>0.990015</td>\n",
       "      <td>0.986613</td>\n",
       "      <td>0.999395</td>\n",
       "    </tr>\n",
       "    <tr>\n",
       "      <th>Rolling-IS-Int</th>\n",
       "      <td>0.930242</td>\n",
       "      <td>0.990015</td>\n",
       "      <td>1.000000</td>\n",
       "      <td>0.993332</td>\n",
       "      <td>0.987919</td>\n",
       "    </tr>\n",
       "    <tr>\n",
       "      <th>Rolling-OOS-Int</th>\n",
       "      <td>0.887358</td>\n",
       "      <td>0.986613</td>\n",
       "      <td>0.993332</td>\n",
       "      <td>1.000000</td>\n",
       "      <td>0.984103</td>\n",
       "    </tr>\n",
       "    <tr>\n",
       "      <th>Static-IS-NoInt</th>\n",
       "      <td>0.905696</td>\n",
       "      <td>0.999395</td>\n",
       "      <td>0.987919</td>\n",
       "      <td>0.984103</td>\n",
       "      <td>1.000000</td>\n",
       "    </tr>\n",
       "  </tbody>\n",
       "</table>\n",
       "</div>"
      ],
      "text/plain": [
       "                 HFRIFWI Index  Static-IS-Int  Rolling-IS-Int  \\\n",
       "HFRIFWI Index         1.000000       0.906244        0.930242   \n",
       "Static-IS-Int         0.906244       1.000000        0.990015   \n",
       "Rolling-IS-Int        0.930242       0.990015        1.000000   \n",
       "Rolling-OOS-Int       0.887358       0.986613        0.993332   \n",
       "Static-IS-NoInt       0.905696       0.999395        0.987919   \n",
       "\n",
       "                 Rolling-OOS-Int  Static-IS-NoInt  \n",
       "HFRIFWI Index           0.887358         0.905696  \n",
       "Static-IS-Int           0.986613         0.999395  \n",
       "Rolling-IS-Int          0.993332         0.987919  \n",
       "Rolling-OOS-Int         1.000000         0.984103  \n",
       "Static-IS-NoInt         0.984103         1.000000  "
      ]
     },
     "execution_count": 110,
     "metadata": {},
     "output_type": "execute_result"
    }
   ],
   "source": [
    "replication['Static-IS-NoInt'] = static_model_noint.fittedvalues\n",
    "replication.corr()"
   ]
  },
  {
   "cell_type": "markdown",
   "id": "a8509559-ee59-4958-8b9d-3589751fdf85",
   "metadata": {},
   "source": [
    "The correlations of the fitted values without intercept to the HFRI are high and are almost identical to the correlations of the fitted values with intercept. "
   ]
  },
  {
   "cell_type": "markdown",
   "id": "eefc8945-d9f7-4c77-a41e-85dd7155a0cc",
   "metadata": {},
   "source": [
    "Since Merrill and ProShares are trying to replicate a portfolio with high returns with a certain number of assets, it is likely that they fit the replicators without an intercept. They would want the replicators' mean returns in the ETF to match that of the actual portfolio -- adding an intercept distorts this objective."
   ]
  }
 ],
 "metadata": {
  "kernelspec": {
   "display_name": "Python 3 (ipykernel)",
   "language": "python",
   "name": "python3"
  },
  "language_info": {
   "codemirror_mode": {
    "name": "ipython",
    "version": 3
   },
   "file_extension": ".py",
   "mimetype": "text/x-python",
   "name": "python",
   "nbconvert_exporter": "python",
   "pygments_lexer": "ipython3",
   "version": "3.9.12"
  }
 },
 "nbformat": 4,
 "nbformat_minor": 5
}
