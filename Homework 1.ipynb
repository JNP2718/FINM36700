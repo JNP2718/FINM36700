{
 "cells": [
  {
   "cell_type": "markdown",
   "id": "0a24d033-0666-461a-b77a-7cd36ae288f4",
   "metadata": {},
   "source": [
    "# Homework 1\n",
    "## Mean Variance Optimization\n",
    "### 1. Summary Statistics"
   ]
  },
  {
   "cell_type": "code",
   "execution_count": null,
   "id": "2fab7b36-33a7-4ed8-9eec-c29888faf62e",
   "metadata": {},
   "outputs": [],
   "source": [
    "import pandas as pd\n",
    "import numpy as np\n",
    "import seaborn as sn\n",
    "import matplotlib.pyplot as plt"
   ]
  },
  {
   "cell_type": "code",
   "execution_count": 132,
   "id": "e2651289-1d26-451d-90f2-e32f178e0a3d",
   "metadata": {},
   "outputs": [
    {
     "name": "stdout",
     "output_type": "stream",
     "text": [
      "                 BWX       DBC       EEM       EFA       HYG       IEF  \\\n",
      "Date                                                                     \n",
      "2009-04-30  0.008993 -0.001000  0.155582  0.115190  0.138460 -0.027452   \n",
      "2009-05-31  0.053672  0.162663  0.159400  0.131918  0.028555 -0.020773   \n",
      "2009-06-30  0.005149 -0.026259 -0.022495 -0.014050  0.033516 -0.005572   \n",
      "2009-07-31  0.031284  0.018568  0.110146  0.100415  0.069191  0.008317   \n",
      "2009-08-31  0.007628 -0.040365 -0.013136  0.045031 -0.016969  0.007635   \n",
      "...              ...       ...       ...       ...       ...       ...   \n",
      "2022-04-30 -0.069696  0.056408 -0.061351 -0.067391 -0.041803 -0.042283   \n",
      "2022-05-31  0.005460  0.046131  0.006135  0.019959  0.016299  0.006184   \n",
      "2022-06-30 -0.046443 -0.075000 -0.051577 -0.087666 -0.070499 -0.008634   \n",
      "2022-07-31  0.020443 -0.019895 -0.003491  0.051688  0.066989  0.029615   \n",
      "2022-08-31 -0.051172  0.006128 -0.016767 -0.054778 -0.037825 -0.034538   \n",
      "\n",
      "                 IYR       PSP       QAI       SPY       TIP  \n",
      "Date                                                          \n",
      "2009-04-30  0.296151  0.230202  0.022882  0.099346 -0.017952  \n",
      "2009-05-31  0.022727  0.053892  0.027865  0.058454  0.019967  \n",
      "2009-06-30 -0.024863  0.045449 -0.003436 -0.000655  0.001982  \n",
      "2009-07-31  0.105799  0.143247  0.015326  0.074606  0.000879  \n",
      "2009-08-31  0.131939  0.033413 -0.004151  0.036939  0.008413  \n",
      "...              ...       ...       ...       ...       ...  \n",
      "2022-04-30 -0.041305 -0.125679 -0.033398 -0.087769 -0.021831  \n",
      "2022-05-31 -0.044434  0.015084 -0.004025  0.002257 -0.009922  \n",
      "2022-06-30 -0.068911 -0.132477 -0.033681 -0.082460 -0.031155  \n",
      "2022-07-31  0.088606  0.108961  0.018822  0.092087  0.043098  \n",
      "2022-08-31 -0.054829 -0.080808 -0.008553 -0.033447 -0.018330  \n",
      "\n",
      "[161 rows x 11 columns]\n"
     ]
    }
   ],
   "source": [
    "df = pd.ExcelFile(r'C:\\Users\\jnpad\\OneDrive\\Desktop\\University of Chicago\\FINM\\03. Autumn Quarter 2022\\Portfolio Theory and Risk Management I\\Homework\\Homework 1\\multi_asset_etf_data.xlsx')\n",
    "\n",
    "TR = pd.read_excel (df, 'total returns')\n",
    "TR.set_index('Date', inplace = True)\n",
    "TR = TR.drop(columns = ['SHV'])\n",
    "\n",
    "print(TR)\n",
    "\n",
    "mu = TR.mean(axis = 'index')*12\n",
    "sigma = TR.std(axis = 'index')*np.sqrt(12)\n",
    "sharpe_ratio = (TR.mean(axis = 'index')/TR.std(axis = 'index'))*np.sqrt(12)"
   ]
  },
  {
   "cell_type": "markdown",
   "id": "73442b00-19b2-431d-89d6-5106ab082138",
   "metadata": {},
   "source": [
    "### (a)"
   ]
  },
  {
   "cell_type": "code",
   "execution_count": 133,
   "id": "6a818bd8-0b79-4cbc-a24a-fdb8246cdc75",
   "metadata": {},
   "outputs": [
    {
     "data": {
      "text/html": [
       "<div>\n",
       "<style scoped>\n",
       "    .dataframe tbody tr th:only-of-type {\n",
       "        vertical-align: middle;\n",
       "    }\n",
       "\n",
       "    .dataframe tbody tr th {\n",
       "        vertical-align: top;\n",
       "    }\n",
       "\n",
       "    .dataframe thead th {\n",
       "        text-align: right;\n",
       "    }\n",
       "</style>\n",
       "<table border=\"1\" class=\"dataframe\">\n",
       "  <thead>\n",
       "    <tr style=\"text-align: right;\">\n",
       "      <th></th>\n",
       "      <th>Mean</th>\n",
       "      <th>Vol</th>\n",
       "      <th>Sharpe</th>\n",
       "    </tr>\n",
       "  </thead>\n",
       "  <tbody>\n",
       "    <tr>\n",
       "      <th>BWX</th>\n",
       "      <td>0.004653</td>\n",
       "      <td>0.078535</td>\n",
       "      <td>0.059248</td>\n",
       "    </tr>\n",
       "    <tr>\n",
       "      <th>DBC</th>\n",
       "      <td>0.038846</td>\n",
       "      <td>0.180186</td>\n",
       "      <td>0.215590</td>\n",
       "    </tr>\n",
       "    <tr>\n",
       "      <th>EEM</th>\n",
       "      <td>0.072621</td>\n",
       "      <td>0.191787</td>\n",
       "      <td>0.378655</td>\n",
       "    </tr>\n",
       "    <tr>\n",
       "      <th>EFA</th>\n",
       "      <td>0.081124</td>\n",
       "      <td>0.161885</td>\n",
       "      <td>0.501125</td>\n",
       "    </tr>\n",
       "    <tr>\n",
       "      <th>HYG</th>\n",
       "      <td>0.071588</td>\n",
       "      <td>0.089403</td>\n",
       "      <td>0.800730</td>\n",
       "    </tr>\n",
       "    <tr>\n",
       "      <th>IEF</th>\n",
       "      <td>0.025833</td>\n",
       "      <td>0.060077</td>\n",
       "      <td>0.429996</td>\n",
       "    </tr>\n",
       "    <tr>\n",
       "      <th>IYR</th>\n",
       "      <td>0.150128</td>\n",
       "      <td>0.184407</td>\n",
       "      <td>0.814113</td>\n",
       "    </tr>\n",
       "    <tr>\n",
       "      <th>PSP</th>\n",
       "      <td>0.133272</td>\n",
       "      <td>0.221299</td>\n",
       "      <td>0.602227</td>\n",
       "    </tr>\n",
       "    <tr>\n",
       "      <th>QAI</th>\n",
       "      <td>0.022862</td>\n",
       "      <td>0.048879</td>\n",
       "      <td>0.467723</td>\n",
       "    </tr>\n",
       "    <tr>\n",
       "      <th>SPY</th>\n",
       "      <td>0.150293</td>\n",
       "      <td>0.144811</td>\n",
       "      <td>1.037857</td>\n",
       "    </tr>\n",
       "    <tr>\n",
       "      <th>TIP</th>\n",
       "      <td>0.034967</td>\n",
       "      <td>0.047833</td>\n",
       "      <td>0.731032</td>\n",
       "    </tr>\n",
       "  </tbody>\n",
       "</table>\n",
       "</div>"
      ],
      "text/plain": [
       "         Mean       Vol    Sharpe\n",
       "BWX  0.004653  0.078535  0.059248\n",
       "DBC  0.038846  0.180186  0.215590\n",
       "EEM  0.072621  0.191787  0.378655\n",
       "EFA  0.081124  0.161885  0.501125\n",
       "HYG  0.071588  0.089403  0.800730\n",
       "IEF  0.025833  0.060077  0.429996\n",
       "IYR  0.150128  0.184407  0.814113\n",
       "PSP  0.133272  0.221299  0.602227\n",
       "QAI  0.022862  0.048879  0.467723\n",
       "SPY  0.150293  0.144811  1.037857\n",
       "TIP  0.034967  0.047833  0.731032"
      ]
     },
     "execution_count": 133,
     "metadata": {},
     "output_type": "execute_result"
    }
   ],
   "source": [
    "def summary_stats(df, annual_fac):\n",
    "    ss_df = (df.mean() * annual_fac).to_frame('Mean')\n",
    "    ss_df['Vol'] = df.std() * np.sqrt(annual_fac)\n",
    "    ss_df['Sharpe'] = ss_df['Mean'] / ss_df['Vol']\n",
    "    \n",
    "    return round(ss_df, 6)\n",
    "\n",
    "summary = summary_stats(TR, 12)\n",
    "summary"
   ]
  },
  {
   "cell_type": "markdown",
   "id": "488d51dc-3930-4522-bb0b-15021d681f9c",
   "metadata": {},
   "source": [
    "### (b)"
   ]
  },
  {
   "cell_type": "markdown",
   "id": "9741aa87-e6ee-45f0-a2bc-64ce4f45c2f5",
   "metadata": {},
   "source": [
    "The \"best\" Sharpe Ratio would be given by the greatest Sharpe Ratio. This means that an asset's mean return for a given level of volatility, or risk, is greater than some other asset's. SPY has the best/highest Sharpe Ratio. BWX has the lowest, or \"worst\", Sharpe Ratio."
   ]
  },
  {
   "cell_type": "code",
   "execution_count": 134,
   "id": "321b27a2-8c1a-49e7-84cf-0a06fdfc6b75",
   "metadata": {},
   "outputs": [
    {
     "data": {
      "text/html": [
       "<div>\n",
       "<style scoped>\n",
       "    .dataframe tbody tr th:only-of-type {\n",
       "        vertical-align: middle;\n",
       "    }\n",
       "\n",
       "    .dataframe tbody tr th {\n",
       "        vertical-align: top;\n",
       "    }\n",
       "\n",
       "    .dataframe thead th {\n",
       "        text-align: right;\n",
       "    }\n",
       "</style>\n",
       "<table border=\"1\" class=\"dataframe\">\n",
       "  <thead>\n",
       "    <tr style=\"text-align: right;\">\n",
       "      <th></th>\n",
       "      <th>Mean</th>\n",
       "      <th>Vol</th>\n",
       "      <th>Sharpe</th>\n",
       "    </tr>\n",
       "  </thead>\n",
       "  <tbody>\n",
       "    <tr>\n",
       "      <th>SPY</th>\n",
       "      <td>0.150293</td>\n",
       "      <td>0.144811</td>\n",
       "      <td>1.037857</td>\n",
       "    </tr>\n",
       "  </tbody>\n",
       "</table>\n",
       "</div>"
      ],
      "text/plain": [
       "         Mean       Vol    Sharpe\n",
       "SPY  0.150293  0.144811  1.037857"
      ]
     },
     "execution_count": 134,
     "metadata": {},
     "output_type": "execute_result"
    }
   ],
   "source": [
    "summary.nlargest(1, 'Sharpe')"
   ]
  },
  {
   "cell_type": "code",
   "execution_count": 135,
   "id": "8526c1dd-392b-4535-9dd1-2070f2840b78",
   "metadata": {},
   "outputs": [
    {
     "data": {
      "text/html": [
       "<div>\n",
       "<style scoped>\n",
       "    .dataframe tbody tr th:only-of-type {\n",
       "        vertical-align: middle;\n",
       "    }\n",
       "\n",
       "    .dataframe tbody tr th {\n",
       "        vertical-align: top;\n",
       "    }\n",
       "\n",
       "    .dataframe thead th {\n",
       "        text-align: right;\n",
       "    }\n",
       "</style>\n",
       "<table border=\"1\" class=\"dataframe\">\n",
       "  <thead>\n",
       "    <tr style=\"text-align: right;\">\n",
       "      <th></th>\n",
       "      <th>Mean</th>\n",
       "      <th>Vol</th>\n",
       "      <th>Sharpe</th>\n",
       "    </tr>\n",
       "  </thead>\n",
       "  <tbody>\n",
       "    <tr>\n",
       "      <th>BWX</th>\n",
       "      <td>0.004653</td>\n",
       "      <td>0.078535</td>\n",
       "      <td>0.059248</td>\n",
       "    </tr>\n",
       "  </tbody>\n",
       "</table>\n",
       "</div>"
      ],
      "text/plain": [
       "         Mean       Vol    Sharpe\n",
       "BWX  0.004653  0.078535  0.059248"
      ]
     },
     "execution_count": 135,
     "metadata": {},
     "output_type": "execute_result"
    }
   ],
   "source": [
    "summary.nsmallest(1, 'Sharpe')"
   ]
  },
  {
   "cell_type": "markdown",
   "id": "447a0c08-91bc-461d-abee-8101a2f8d408",
   "metadata": {},
   "source": [
    "## 2. Descriptive Analysis"
   ]
  },
  {
   "cell_type": "markdown",
   "id": "3d5bbd47-4bc9-4c91-b8f8-fd689b2ed6bf",
   "metadata": {},
   "source": [
    "### (a)"
   ]
  },
  {
   "cell_type": "markdown",
   "id": "9d42b3a1-ac5e-4d3b-8c0f-83f3d75993ce",
   "metadata": {},
   "source": [
    "The correlation matrix can be visualized through the heatmap below:"
   ]
  },
  {
   "cell_type": "code",
   "execution_count": 49,
   "id": "f8879b08-3fdd-4963-8e22-924a2f5b00e6",
   "metadata": {},
   "outputs": [
    {
     "data": {
      "image/png": "[encoded data removed]",
      "text/plain": [
       "<Figure size 432x288 with 2 Axes>"
      ]
     },
     "metadata": {
      "needs_background": "light"
     },
     "output_type": "display_data"
    }
   ],
   "source": [
    "corr_matrix = TR.corr()\n",
    "sn.heatmap(corr_matrix, annot=True)\n",
    "plt.show()"
   ]
  },
  {
   "cell_type": "code",
   "execution_count": 74,
   "id": "7d8513c8-613f-42c4-8b02-620dbf53c76a",
   "metadata": {},
   "outputs": [
    {
     "name": "stdout",
     "output_type": "stream",
     "text": [
      "The pair with the maximum correlation is ('EFA', 'PSP')\n",
      "The pair with the minimum correlation is ('IEF', 'DBC')\n"
     ]
    }
   ],
   "source": [
    "corr_matrix[corr_matrix == 1] = None\n",
    "\n",
    "corr_rank = corr_matrix.unstack().sort_values().dropna()\n",
    "pair_max = corr_rank.index[-1]\n",
    "pair_min = corr_rank.index[0]\n",
    "\n",
    "print(f'The pair with the maximum correlation is {pair_max}')\n",
    "print(f'The pair with the minimum correlation is {pair_min}')"
   ]
  },
  {
   "cell_type": "markdown",
   "id": "4fb9c67c-2398-412b-aed3-fdb87cea9ec1",
   "metadata": {},
   "source": [
    "### (b)"
   ]
  },
  {
   "cell_type": "markdown",
   "id": "19c739fb-dcfb-47c8-a856-e49c0ab88bb1",
   "metadata": {},
   "source": [
    "Domestic bonds can be found within the ETFs, IEF, which tracks 7-10 year U.S. Treasury bonds and HYG, which tracks high-yield corporate bonds in the U.S. Foreign bonds are represented by BWX which tracks the fixed-rate local currency sovereign debt of investment grade countries outside the U.S. "
   ]
  },
  {
   "cell_type": "code",
   "execution_count": 108,
   "id": "d3d95bb7-f6ab-4833-b799-9e047ccef211",
   "metadata": {},
   "outputs": [
    {
     "data": {
      "text/html": [
       "<div>\n",
       "<style scoped>\n",
       "    .dataframe tbody tr th:only-of-type {\n",
       "        vertical-align: middle;\n",
       "    }\n",
       "\n",
       "    .dataframe tbody tr th {\n",
       "        vertical-align: top;\n",
       "    }\n",
       "\n",
       "    .dataframe thead th {\n",
       "        text-align: right;\n",
       "    }\n",
       "</style>\n",
       "<table border=\"1\" class=\"dataframe\">\n",
       "  <thead>\n",
       "    <tr style=\"text-align: right;\">\n",
       "      <th></th>\n",
       "      <th>Mean</th>\n",
       "      <th>Vol</th>\n",
       "      <th>Sharpe</th>\n",
       "    </tr>\n",
       "  </thead>\n",
       "  <tbody>\n",
       "    <tr>\n",
       "      <th>TIP</th>\n",
       "      <td>0.034967</td>\n",
       "      <td>0.047833</td>\n",
       "      <td>0.731032</td>\n",
       "    </tr>\n",
       "    <tr>\n",
       "      <th>IEF</th>\n",
       "      <td>0.025833</td>\n",
       "      <td>0.060077</td>\n",
       "      <td>0.429996</td>\n",
       "    </tr>\n",
       "    <tr>\n",
       "      <th>HYG</th>\n",
       "      <td>0.071588</td>\n",
       "      <td>0.089403</td>\n",
       "      <td>0.800730</td>\n",
       "    </tr>\n",
       "    <tr>\n",
       "      <th>BWX</th>\n",
       "      <td>0.004653</td>\n",
       "      <td>0.078535</td>\n",
       "      <td>0.059248</td>\n",
       "    </tr>\n",
       "  </tbody>\n",
       "</table>\n",
       "</div>"
      ],
      "text/plain": [
       "         Mean       Vol    Sharpe\n",
       "TIP  0.034967  0.047833  0.731032\n",
       "IEF  0.025833  0.060077  0.429996\n",
       "HYG  0.071588  0.089403  0.800730\n",
       "BWX  0.004653  0.078535  0.059248"
      ]
     },
     "execution_count": 108,
     "metadata": {},
     "output_type": "execute_result"
    }
   ],
   "source": [
    "summary.loc[['TIP', 'IEF', 'HYG', 'BWX']]"
   ]
  },
  {
   "cell_type": "markdown",
   "id": "c6abf4cd-d973-407b-b104-0c261369fed6",
   "metadata": {},
   "source": [
    "We see that TIP have had higher mean return and lower volatility in comparison to IEF and BWX. As a result, the TIP Sharpe Ratio is greater than both IEF and BWX.\n",
    "TIP however does not outperform HYG in mean return, although its volatility is lower than HYG's volatility. HYG's Sharpe Ratio is greater than TIP's Sharpe Ratio."
   ]
  },
  {
   "cell_type": "markdown",
   "id": "40385fe8-6a16-4722-850b-2efef20a247c",
   "metadata": {},
   "source": [
    "### (c)"
   ]
  },
  {
   "cell_type": "markdown",
   "id": "9180f498-0bd9-482c-9b84-b97b0cb1284c",
   "metadata": {},
   "source": [
    "Yes, TIP does seem to expand the investment opportunity set as they outperform other bonds in mean return and volatility and are generally lowly correlated with other assets (less IEF and BWX). Harvard should consider them as a separate asset"
   ]
  },
  {
   "cell_type": "markdown",
   "id": "86a13cce-c6ae-4d7f-be67-71d5208f8720",
   "metadata": {},
   "source": [
    "## 3. The MV Frontier"
   ]
  },
  {
   "cell_type": "markdown",
   "id": "17a9b1f8-7146-42c3-8c4b-4d1e66023b6c",
   "metadata": {},
   "source": [
    "### (a)"
   ]
  },
  {
   "cell_type": "code",
   "execution_count": 136,
   "id": "a907524b-738f-4212-9725-5cc0781869e7",
   "metadata": {},
   "outputs": [
    {
     "data": {
      "text/html": [
       "<div>\n",
       "<style scoped>\n",
       "    .dataframe tbody tr th:only-of-type {\n",
       "        vertical-align: middle;\n",
       "    }\n",
       "\n",
       "    .dataframe tbody tr th {\n",
       "        vertical-align: top;\n",
       "    }\n",
       "\n",
       "    .dataframe thead th {\n",
       "        text-align: right;\n",
       "    }\n",
       "</style>\n",
       "<table border=\"1\" class=\"dataframe\">\n",
       "  <thead>\n",
       "    <tr style=\"text-align: right;\">\n",
       "      <th></th>\n",
       "      <th>Tangency Weights</th>\n",
       "    </tr>\n",
       "  </thead>\n",
       "  <tbody>\n",
       "    <tr>\n",
       "      <th>BWX</th>\n",
       "      <td>-1.335168</td>\n",
       "    </tr>\n",
       "    <tr>\n",
       "      <th>DBC</th>\n",
       "      <td>0.239151</td>\n",
       "    </tr>\n",
       "    <tr>\n",
       "      <th>EEM</th>\n",
       "      <td>0.339786</td>\n",
       "    </tr>\n",
       "    <tr>\n",
       "      <th>EFA</th>\n",
       "      <td>-0.117068</td>\n",
       "    </tr>\n",
       "    <tr>\n",
       "      <th>HYG</th>\n",
       "      <td>1.070489</td>\n",
       "    </tr>\n",
       "    <tr>\n",
       "      <th>IEF</th>\n",
       "      <td>2.457952</td>\n",
       "    </tr>\n",
       "    <tr>\n",
       "      <th>IYR</th>\n",
       "      <td>-0.307783</td>\n",
       "    </tr>\n",
       "    <tr>\n",
       "      <th>PSP</th>\n",
       "      <td>-0.513078</td>\n",
       "    </tr>\n",
       "    <tr>\n",
       "      <th>QAI</th>\n",
       "      <td>-3.955222</td>\n",
       "    </tr>\n",
       "    <tr>\n",
       "      <th>SPY</th>\n",
       "      <td>2.430623</td>\n",
       "    </tr>\n",
       "    <tr>\n",
       "      <th>TIP</th>\n",
       "      <td>0.690317</td>\n",
       "    </tr>\n",
       "  </tbody>\n",
       "</table>\n",
       "</div>"
      ],
      "text/plain": [
       "     Tangency Weights\n",
       "BWX         -1.335168\n",
       "DBC          0.239151\n",
       "EEM          0.339786\n",
       "EFA         -0.117068\n",
       "HYG          1.070489\n",
       "IEF          2.457952\n",
       "IYR         -0.307783\n",
       "PSP         -0.513078\n",
       "QAI         -3.955222\n",
       "SPY          2.430623\n",
       "TIP          0.690317"
      ]
     },
     "execution_count": 136,
     "metadata": {},
     "output_type": "execute_result"
    }
   ],
   "source": [
    "def tangency_vector(df, diagonalize_Sigma = False):\n",
    "    Sigma = df.cov()\n",
    "\n",
    "    # Let N be the number of assets\n",
    "    N = Sigma.shape[0]\n",
    "\n",
    "    Sigma_adj = Sigma.copy()\n",
    "\n",
    "    if diagonalize_Sigma:\n",
    "\n",
    "        Sigma_adj.loc[:,:] = np.diag(np.diag(Sigma_adj))\n",
    "\n",
    "    mu = df.mean()\n",
    "    Sigma_inv = np.linalg.inv(Sigma_adj)\n",
    "    weights = (Sigma_inv @ mu) / (np.ones(N) @ Sigma_inv @ mu)\n",
    "\n",
    "    omega_tangency = pd.Series(weights, index=mu.index)\n",
    "\n",
    "    return omega_tangency, mu, Sigma_adj\n",
    "\n",
    "\n",
    "omega_tangency, mu, Sigma = tangency_vector(TR)\n",
    "\n",
    "omega_tangency.to_frame('Tangency Weights')"
   ]
  },
  {
   "cell_type": "markdown",
   "id": "59a97623-a7c0-4c7f-b9bb-41033b14afb5",
   "metadata": {},
   "source": [
    "### (b)"
   ]
  },
  {
   "cell_type": "code",
   "execution_count": 137,
   "id": "788871b9-71d7-43d7-8a01-5f1683b22225",
   "metadata": {},
   "outputs": [
    {
     "data": {
      "text/html": [
       "<div>\n",
       "<style scoped>\n",
       "    .dataframe tbody tr th:only-of-type {\n",
       "        vertical-align: middle;\n",
       "    }\n",
       "\n",
       "    .dataframe tbody tr th {\n",
       "        vertical-align: top;\n",
       "    }\n",
       "\n",
       "    .dataframe thead th {\n",
       "        text-align: right;\n",
       "    }\n",
       "</style>\n",
       "<table border=\"1\" class=\"dataframe\">\n",
       "  <thead>\n",
       "    <tr style=\"text-align: right;\">\n",
       "      <th></th>\n",
       "      <th>Portfolio Stats</th>\n",
       "    </tr>\n",
       "  </thead>\n",
       "  <tbody>\n",
       "    <tr>\n",
       "      <th>Mean</th>\n",
       "      <td>0.3428</td>\n",
       "    </tr>\n",
       "    <tr>\n",
       "      <th>Volatility</th>\n",
       "      <td>0.1759</td>\n",
       "    </tr>\n",
       "    <tr>\n",
       "      <th>Sharpe</th>\n",
       "      <td>1.9493</td>\n",
       "    </tr>\n",
       "  </tbody>\n",
       "</table>\n",
       "</div>"
      ],
      "text/plain": [
       "            Portfolio Stats\n",
       "Mean                 0.3428\n",
       "Volatility           0.1759\n",
       "Sharpe               1.9493"
      ]
     },
     "execution_count": 137,
     "metadata": {},
     "output_type": "execute_result"
    }
   ],
   "source": [
    "def portfolio_stats(omega, mu, Sigma, annualize_fac):\n",
    "    # Mean\n",
    "    mean = (mu @ omega)*annualize_fac\n",
    "    \n",
    "    # Volatility\n",
    "    vol = np.sqrt(omega @ Sigma @ omega) * np.sqrt(annualize_fac)\n",
    "    \n",
    "    # Sharpe Ratio\n",
    "    sharpe_ratio = mean/vol\n",
    "    \n",
    "    return round(pd.DataFrame(data = [mean, vol, sharpe_ratio], \n",
    "                              index = ['Mean', 'Volatility', 'Sharpe'], \n",
    "                              columns = ['Portfolio Stats']), 4)\n",
    "\n",
    "portfolio_stats(omega_tangency, mu, Sigma, 12)\n"
   ]
  },
  {
   "cell_type": "markdown",
   "id": "1cc9e34d-fc01-4e22-ba1d-47f2cc3868e6",
   "metadata": {},
   "source": [
    "### 4. The Allocation"
   ]
  },
  {
   "cell_type": "markdown",
   "id": "c460d43c-58cb-4c73-8f31-711cf50be929",
   "metadata": {},
   "source": [
    "### (a)"
   ]
  },
  {
   "cell_type": "code",
   "execution_count": 139,
   "id": "d3eb01ed-9abf-4afc-aa9a-f63f32605806",
   "metadata": {},
   "outputs": [
    {
     "data": {
      "text/html": [
       "<div>\n",
       "<style scoped>\n",
       "    .dataframe tbody tr th:only-of-type {\n",
       "        vertical-align: middle;\n",
       "    }\n",
       "\n",
       "    .dataframe tbody tr th {\n",
       "        vertical-align: top;\n",
       "    }\n",
       "\n",
       "    .dataframe thead th {\n",
       "        text-align: right;\n",
       "    }\n",
       "</style>\n",
       "<table border=\"1\" class=\"dataframe\">\n",
       "  <thead>\n",
       "    <tr style=\"text-align: right;\">\n",
       "      <th></th>\n",
       "      <th>MV Portfolio Weights</th>\n",
       "    </tr>\n",
       "  </thead>\n",
       "  <tbody>\n",
       "    <tr>\n",
       "      <th>BWX</th>\n",
       "      <td>-0.701036</td>\n",
       "    </tr>\n",
       "    <tr>\n",
       "      <th>DBC</th>\n",
       "      <td>0.125567</td>\n",
       "    </tr>\n",
       "    <tr>\n",
       "      <th>EEM</th>\n",
       "      <td>0.178406</td>\n",
       "    </tr>\n",
       "    <tr>\n",
       "      <th>EFA</th>\n",
       "      <td>-0.061467</td>\n",
       "    </tr>\n",
       "    <tr>\n",
       "      <th>HYG</th>\n",
       "      <td>0.562065</td>\n",
       "    </tr>\n",
       "    <tr>\n",
       "      <th>IEF</th>\n",
       "      <td>1.290558</td>\n",
       "    </tr>\n",
       "    <tr>\n",
       "      <th>IYR</th>\n",
       "      <td>-0.161603</td>\n",
       "    </tr>\n",
       "    <tr>\n",
       "      <th>PSP</th>\n",
       "      <td>-0.269394</td>\n",
       "    </tr>\n",
       "    <tr>\n",
       "      <th>QAI</th>\n",
       "      <td>-2.076706</td>\n",
       "    </tr>\n",
       "    <tr>\n",
       "      <th>SPY</th>\n",
       "      <td>1.276209</td>\n",
       "    </tr>\n",
       "    <tr>\n",
       "      <th>TIP</th>\n",
       "      <td>0.362454</td>\n",
       "    </tr>\n",
       "  </tbody>\n",
       "</table>\n",
       "</div>"
      ],
      "text/plain": [
       "     MV Portfolio Weights\n",
       "BWX             -0.701036\n",
       "DBC              0.125567\n",
       "EEM              0.178406\n",
       "EFA             -0.061467\n",
       "HYG              0.562065\n",
       "IEF              1.290558\n",
       "IYR             -0.161603\n",
       "PSP             -0.269394\n",
       "QAI             -2.076706\n",
       "SPY              1.276209\n",
       "TIP              0.362454"
      ]
     },
     "execution_count": 139,
     "metadata": {},
     "output_type": "execute_result"
    }
   ],
   "source": [
    "def target_MV_portfolio(df, target_return, diagonalize_Sigma=False):\n",
    "    omega_tangency, mu, Sigma = tangency_vector(df, diagonalize_Sigma = diagonalize_Sigma)\n",
    "    Sigma_adj = Sigma.copy()\n",
    "    if diagonalize_Sigma:\n",
    "\n",
    "        Sigma_adj.loc[:,:] = np.diag(np.diag(Sigma_adj))\n",
    "\n",
    "    Sigma_inv = np.linalg.inv(Sigma_adj)\n",
    "\n",
    "    N = Sigma_adj.shape[0]\n",
    "    \n",
    "    delta_tilde = ((np.ones(N) @ Sigma_inv @ mu) / (mu @ Sigma_inv @ mu))*target_return\n",
    "    omega_star = delta_tilde * omega_tangency\n",
    "    return omega_star, mu, Sigma_adj\n",
    "\n",
    "omega_star, mu, Sigma = target_MV_portfolio(TR, 0.015)\n",
    "\n",
    "omega_star_TR = omega_star.to_frame('MV Portfolio Weights')\n",
    "\n",
    "omega_star_TR"
   ]
  },
  {
   "cell_type": "markdown",
   "id": "4b719852-c5b4-4e2a-b6c8-11eeffd48cf8",
   "metadata": {},
   "source": [
    "### (b)"
   ]
  },
  {
   "cell_type": "code",
   "execution_count": null,
   "id": "a5791933-1de3-4b09-aa69-b910ce9810cf",
   "metadata": {},
   "outputs": [
    {
     "data": {
      "text/html": [
       "<div>\n",
       "<style scoped>\n",
       "    .dataframe tbody tr th:only-of-type {\n",
       "        vertical-align: middle;\n",
       "    }\n",
       "\n",
       "    .dataframe tbody tr th {\n",
       "        vertical-align: top;\n",
       "    }\n",
       "\n",
       "    .dataframe thead th {\n",
       "        text-align: right;\n",
       "    }\n",
       "</style>\n",
       "<table border=\"1\" class=\"dataframe\">\n",
       "  <thead>\n",
       "    <tr style=\"text-align: right;\">\n",
       "      <th></th>\n",
       "      <th>Portfolio Stats</th>\n",
       "    </tr>\n",
       "  </thead>\n",
       "  <tbody>\n",
       "    <tr>\n",
       "      <th>Mean</th>\n",
       "      <td>0.1800</td>\n",
       "    </tr>\n",
       "    <tr>\n",
       "      <th>Volatility</th>\n",
       "      <td>0.0923</td>\n",
       "    </tr>\n",
       "    <tr>\n",
       "      <th>Sharpe</th>\n",
       "      <td>1.9493</td>\n",
       "    </tr>\n",
       "  </tbody>\n",
       "</table>\n",
       "</div>"
      ],
      "text/plain": [
       "            Portfolio Stats\n",
       "Mean                 0.1800\n",
       "Volatility           0.0923\n",
       "Sharpe               1.9493"
      ]
     },
     "execution_count": 95,
     "metadata": {},
     "output_type": "execute_result"
    }
   ],
   "source": [
    "portfolio_stats(omega_star, mu, Sigma, 12)"
   ]
  },
  {
   "cell_type": "markdown",
   "id": "46d1864c-5515-4881-a861-f7d47fe1defa",
   "metadata": {},
   "source": [
    "### (c)"
   ]
  },
  {
   "cell_type": "code",
   "execution_count": 96,
   "id": "052a2999-5749-4c9a-a103-104bdd750d39",
   "metadata": {},
   "outputs": [
    {
     "data": {
      "text/html": [
       "<div>\n",
       "<style scoped>\n",
       "    .dataframe tbody tr th:only-of-type {\n",
       "        vertical-align: middle;\n",
       "    }\n",
       "\n",
       "    .dataframe tbody tr th {\n",
       "        vertical-align: top;\n",
       "    }\n",
       "\n",
       "    .dataframe thead th {\n",
       "        text-align: right;\n",
       "    }\n",
       "</style>\n",
       "<table border=\"1\" class=\"dataframe\">\n",
       "  <thead>\n",
       "    <tr style=\"text-align: right;\">\n",
       "      <th></th>\n",
       "      <th>MV Portfolio Weights</th>\n",
       "    </tr>\n",
       "  </thead>\n",
       "  <tbody>\n",
       "    <tr>\n",
       "      <th>IEF</th>\n",
       "      <td>1.290558</td>\n",
       "    </tr>\n",
       "    <tr>\n",
       "      <th>SPY</th>\n",
       "      <td>1.276209</td>\n",
       "    </tr>\n",
       "    <tr>\n",
       "      <th>HYG</th>\n",
       "      <td>0.562065</td>\n",
       "    </tr>\n",
       "    <tr>\n",
       "      <th>TIP</th>\n",
       "      <td>0.362454</td>\n",
       "    </tr>\n",
       "    <tr>\n",
       "      <th>EEM</th>\n",
       "      <td>0.178406</td>\n",
       "    </tr>\n",
       "    <tr>\n",
       "      <th>DBC</th>\n",
       "      <td>0.125567</td>\n",
       "    </tr>\n",
       "    <tr>\n",
       "      <th>EFA</th>\n",
       "      <td>-0.061467</td>\n",
       "    </tr>\n",
       "    <tr>\n",
       "      <th>IYR</th>\n",
       "      <td>-0.161603</td>\n",
       "    </tr>\n",
       "    <tr>\n",
       "      <th>PSP</th>\n",
       "      <td>-0.269394</td>\n",
       "    </tr>\n",
       "    <tr>\n",
       "      <th>BWX</th>\n",
       "      <td>-0.701036</td>\n",
       "    </tr>\n",
       "    <tr>\n",
       "      <th>QAI</th>\n",
       "      <td>-2.076706</td>\n",
       "    </tr>\n",
       "  </tbody>\n",
       "</table>\n",
       "</div>"
      ],
      "text/plain": [
       "     MV Portfolio Weights\n",
       "IEF              1.290558\n",
       "SPY              1.276209\n",
       "HYG              0.562065\n",
       "TIP              0.362454\n",
       "EEM              0.178406\n",
       "DBC              0.125567\n",
       "EFA             -0.061467\n",
       "IYR             -0.161603\n",
       "PSP             -0.269394\n",
       "BWX             -0.701036\n",
       "QAI             -2.076706"
      ]
     },
     "execution_count": 96,
     "metadata": {},
     "output_type": "execute_result"
    }
   ],
   "source": [
    "omega_star_TR.sort_values(omega_star_TR.columns[0], ascending = False)"
   ]
  },
  {
   "cell_type": "markdown",
   "id": "a19835fb-0348-4ab2-acdb-9ebf88ec1452",
   "metadata": {},
   "source": [
    "The portfolio is most long in IEF and most short in QAI. The portfolio also has a considerable long position in SPY, although less than that of IEF."
   ]
  },
  {
   "cell_type": "code",
   "execution_count": 97,
   "id": "3bf92d6b-ec59-4b5e-98a5-c45882292fbd",
   "metadata": {},
   "outputs": [
    {
     "data": {
      "text/html": [
       "<div>\n",
       "<style scoped>\n",
       "    .dataframe tbody tr th:only-of-type {\n",
       "        vertical-align: middle;\n",
       "    }\n",
       "\n",
       "    .dataframe tbody tr th {\n",
       "        vertical-align: top;\n",
       "    }\n",
       "\n",
       "    .dataframe thead th {\n",
       "        text-align: right;\n",
       "    }\n",
       "</style>\n",
       "<table border=\"1\" class=\"dataframe\">\n",
       "  <thead>\n",
       "    <tr style=\"text-align: right;\">\n",
       "      <th></th>\n",
       "      <th>Mean</th>\n",
       "      <th>Vol</th>\n",
       "      <th>Sharpe</th>\n",
       "    </tr>\n",
       "  </thead>\n",
       "  <tbody>\n",
       "    <tr>\n",
       "      <th>SPY</th>\n",
       "      <td>0.150293</td>\n",
       "      <td>0.144811</td>\n",
       "      <td>1.037857</td>\n",
       "    </tr>\n",
       "    <tr>\n",
       "      <th>IYR</th>\n",
       "      <td>0.150128</td>\n",
       "      <td>0.184407</td>\n",
       "      <td>0.814113</td>\n",
       "    </tr>\n",
       "    <tr>\n",
       "      <th>HYG</th>\n",
       "      <td>0.071588</td>\n",
       "      <td>0.089403</td>\n",
       "      <td>0.800730</td>\n",
       "    </tr>\n",
       "    <tr>\n",
       "      <th>TIP</th>\n",
       "      <td>0.034967</td>\n",
       "      <td>0.047833</td>\n",
       "      <td>0.731032</td>\n",
       "    </tr>\n",
       "    <tr>\n",
       "      <th>PSP</th>\n",
       "      <td>0.133272</td>\n",
       "      <td>0.221299</td>\n",
       "      <td>0.602227</td>\n",
       "    </tr>\n",
       "    <tr>\n",
       "      <th>EFA</th>\n",
       "      <td>0.081124</td>\n",
       "      <td>0.161885</td>\n",
       "      <td>0.501125</td>\n",
       "    </tr>\n",
       "    <tr>\n",
       "      <th>QAI</th>\n",
       "      <td>0.022862</td>\n",
       "      <td>0.048879</td>\n",
       "      <td>0.467723</td>\n",
       "    </tr>\n",
       "    <tr>\n",
       "      <th>IEF</th>\n",
       "      <td>0.025833</td>\n",
       "      <td>0.060077</td>\n",
       "      <td>0.429996</td>\n",
       "    </tr>\n",
       "    <tr>\n",
       "      <th>EEM</th>\n",
       "      <td>0.072621</td>\n",
       "      <td>0.191787</td>\n",
       "      <td>0.378655</td>\n",
       "    </tr>\n",
       "    <tr>\n",
       "      <th>DBC</th>\n",
       "      <td>0.038846</td>\n",
       "      <td>0.180186</td>\n",
       "      <td>0.215590</td>\n",
       "    </tr>\n",
       "    <tr>\n",
       "      <th>BWX</th>\n",
       "      <td>0.004653</td>\n",
       "      <td>0.078535</td>\n",
       "      <td>0.059248</td>\n",
       "    </tr>\n",
       "  </tbody>\n",
       "</table>\n",
       "</div>"
      ],
      "text/plain": [
       "         Mean       Vol    Sharpe\n",
       "SPY  0.150293  0.144811  1.037857\n",
       "IYR  0.150128  0.184407  0.814113\n",
       "HYG  0.071588  0.089403  0.800730\n",
       "TIP  0.034967  0.047833  0.731032\n",
       "PSP  0.133272  0.221299  0.602227\n",
       "EFA  0.081124  0.161885  0.501125\n",
       "QAI  0.022862  0.048879  0.467723\n",
       "IEF  0.025833  0.060077  0.429996\n",
       "EEM  0.072621  0.191787  0.378655\n",
       "DBC  0.038846  0.180186  0.215590\n",
       "BWX  0.004653  0.078535  0.059248"
      ]
     },
     "execution_count": 97,
     "metadata": {},
     "output_type": "execute_result"
    }
   ],
   "source": [
    "summary.sort_values('Sharpe', ascending = False)"
   ]
  },
  {
   "cell_type": "markdown",
   "id": "ca750153-1a0a-4cc7-a277-7a0d218f83f1",
   "metadata": {},
   "source": [
    "No, the long/short position do not line up with the assets with the strongest Sharpe Ratios. SPY and IYR have the strongest Sharpe Ratios, while IEF and QAI have very similar Sharpe Rations, closer to zero."
   ]
  },
  {
   "cell_type": "markdown",
   "id": "d6d3fc2f-8639-4bd7-94c5-806ebd89b34e",
   "metadata": {},
   "source": [
    "## 5. Simple Portfolios"
   ]
  },
  {
   "cell_type": "markdown",
   "id": "e982b193-18f3-42dd-aac1-d6dc4deba843",
   "metadata": {},
   "source": [
    "### (a)"
   ]
  },
  {
   "cell_type": "code",
   "execution_count": 140,
   "id": "9dcd96ed-d5af-4a59-84f1-0d931ed8e5fd",
   "metadata": {},
   "outputs": [
    {
     "data": {
      "text/html": [
       "<div>\n",
       "<style scoped>\n",
       "    .dataframe tbody tr th:only-of-type {\n",
       "        vertical-align: middle;\n",
       "    }\n",
       "\n",
       "    .dataframe tbody tr th {\n",
       "        vertical-align: top;\n",
       "    }\n",
       "\n",
       "    .dataframe thead th {\n",
       "        text-align: right;\n",
       "    }\n",
       "</style>\n",
       "<table border=\"1\" class=\"dataframe\">\n",
       "  <thead>\n",
       "    <tr style=\"text-align: right;\">\n",
       "      <th></th>\n",
       "      <th>Portfolio Stats</th>\n",
       "    </tr>\n",
       "  </thead>\n",
       "  <tbody>\n",
       "    <tr>\n",
       "      <th>Mean</th>\n",
       "      <td>0.1800</td>\n",
       "    </tr>\n",
       "    <tr>\n",
       "      <th>Volatility</th>\n",
       "      <td>0.2517</td>\n",
       "    </tr>\n",
       "    <tr>\n",
       "      <th>Sharpe</th>\n",
       "      <td>0.7152</td>\n",
       "    </tr>\n",
       "  </tbody>\n",
       "</table>\n",
       "</div>"
      ],
      "text/plain": [
       "            Portfolio Stats\n",
       "Mean                 0.1800\n",
       "Volatility           0.2517\n",
       "Sharpe               0.7152"
      ]
     },
     "execution_count": 140,
     "metadata": {},
     "output_type": "execute_result"
    }
   ],
   "source": [
    "equal_weights_vector = np.ones(len(omega_tangency))\n",
    "\n",
    "target_mean = 0.015\n",
    "equal_weights_vector[equal_weights_vector == 1] = 1/(len(omega_tangency))\n",
    "\n",
    "equal_weights_vector = equal_weights_vector * (target_mean / (TR.mean() @ equal_weights_vector))\n",
    "portfolio_stats(equal_weights_vector, mu, Sigma, 12)"
   ]
  },
  {
   "cell_type": "markdown",
   "id": "4c90c520-8061-4290-b8bd-7cb8d01d2dbb",
   "metadata": {},
   "source": [
    "### (b)"
   ]
  },
  {
   "cell_type": "code",
   "execution_count": 142,
   "id": "55150a85-143b-43b8-88a8-97a878e1d6b8",
   "metadata": {},
   "outputs": [
    {
     "data": {
      "text/html": [
       "<div>\n",
       "<style scoped>\n",
       "    .dataframe tbody tr th:only-of-type {\n",
       "        vertical-align: middle;\n",
       "    }\n",
       "\n",
       "    .dataframe tbody tr th {\n",
       "        vertical-align: top;\n",
       "    }\n",
       "\n",
       "    .dataframe thead th {\n",
       "        text-align: right;\n",
       "    }\n",
       "</style>\n",
       "<table border=\"1\" class=\"dataframe\">\n",
       "  <thead>\n",
       "    <tr style=\"text-align: right;\">\n",
       "      <th></th>\n",
       "      <th>Weights</th>\n",
       "    </tr>\n",
       "  </thead>\n",
       "  <tbody>\n",
       "    <tr>\n",
       "      <th>BWX</th>\n",
       "      <td>0.379571</td>\n",
       "    </tr>\n",
       "    <tr>\n",
       "      <th>DBC</th>\n",
       "      <td>0.165439</td>\n",
       "    </tr>\n",
       "    <tr>\n",
       "      <th>EEM</th>\n",
       "      <td>0.155431</td>\n",
       "    </tr>\n",
       "    <tr>\n",
       "      <th>EFA</th>\n",
       "      <td>0.184142</td>\n",
       "    </tr>\n",
       "    <tr>\n",
       "      <th>HYG</th>\n",
       "      <td>0.333430</td>\n",
       "    </tr>\n",
       "    <tr>\n",
       "      <th>IEF</th>\n",
       "      <td>0.496193</td>\n",
       "    </tr>\n",
       "    <tr>\n",
       "      <th>IYR</th>\n",
       "      <td>0.161652</td>\n",
       "    </tr>\n",
       "    <tr>\n",
       "      <th>PSP</th>\n",
       "      <td>0.134704</td>\n",
       "    </tr>\n",
       "    <tr>\n",
       "      <th>QAI</th>\n",
       "      <td>0.609866</td>\n",
       "    </tr>\n",
       "    <tr>\n",
       "      <th>SPY</th>\n",
       "      <td>0.205852</td>\n",
       "    </tr>\n",
       "    <tr>\n",
       "      <th>TIP</th>\n",
       "      <td>0.623205</td>\n",
       "    </tr>\n",
       "  </tbody>\n",
       "</table>\n",
       "</div>"
      ],
      "text/plain": [
       "      Weights\n",
       "BWX  0.379571\n",
       "DBC  0.165439\n",
       "EEM  0.155431\n",
       "EFA  0.184142\n",
       "HYG  0.333430\n",
       "IEF  0.496193\n",
       "IYR  0.161652\n",
       "PSP  0.134704\n",
       "QAI  0.609866\n",
       "SPY  0.205852\n",
       "TIP  0.623205"
      ]
     },
     "execution_count": 142,
     "metadata": {},
     "output_type": "execute_result"
    }
   ],
   "source": [
    "w = 1/(TR.std())\n",
    "target_mean = 0.015\n",
    "\n",
    "multiplier = 1 / ((w @ TR.mean()) / target_mean)\n",
    "\n",
    "w = multiplier * w\n",
    "\n",
    "w.to_frame('Weights')"
   ]
  },
  {
   "cell_type": "code",
   "execution_count": 143,
   "id": "30c7190f-5c6c-4d1c-b49e-83164bfd2b83",
   "metadata": {},
   "outputs": [
    {
     "data": {
      "text/html": [
       "<div>\n",
       "<style scoped>\n",
       "    .dataframe tbody tr th:only-of-type {\n",
       "        vertical-align: middle;\n",
       "    }\n",
       "\n",
       "    .dataframe tbody tr th {\n",
       "        vertical-align: top;\n",
       "    }\n",
       "\n",
       "    .dataframe thead th {\n",
       "        text-align: right;\n",
       "    }\n",
       "</style>\n",
       "<table border=\"1\" class=\"dataframe\">\n",
       "  <thead>\n",
       "    <tr style=\"text-align: right;\">\n",
       "      <th></th>\n",
       "      <th>Portfolio Stats</th>\n",
       "    </tr>\n",
       "  </thead>\n",
       "  <tbody>\n",
       "    <tr>\n",
       "      <th>Mean</th>\n",
       "      <td>0.1800</td>\n",
       "    </tr>\n",
       "    <tr>\n",
       "      <th>Volatility</th>\n",
       "      <td>0.2356</td>\n",
       "    </tr>\n",
       "    <tr>\n",
       "      <th>Sharpe</th>\n",
       "      <td>0.7640</td>\n",
       "    </tr>\n",
       "  </tbody>\n",
       "</table>\n",
       "</div>"
      ],
      "text/plain": [
       "            Portfolio Stats\n",
       "Mean                 0.1800\n",
       "Volatility           0.2356\n",
       "Sharpe               0.7640"
      ]
     },
     "execution_count": 143,
     "metadata": {},
     "output_type": "execute_result"
    }
   ],
   "source": [
    "portfolio_stats(w, mu, Sigma, 12)"
   ]
  },
  {
   "cell_type": "markdown",
   "id": "23ec7fc5-2936-43f8-9e43-9abe7c527616",
   "metadata": {},
   "source": [
    "### (c)"
   ]
  },
  {
   "cell_type": "markdown",
   "id": "808d5af8-1ca6-4af2-97e0-c45df7173789",
   "metadata": {},
   "source": [
    "In both cases, the Sharpe Ratios for these portfolios is lower than that of the MV portfolio in 2.4."
   ]
  },
  {
   "cell_type": "markdown",
   "id": "cb336405-9e8c-4520-bc76-7119fc162d99",
   "metadata": {},
   "source": [
    "## 6."
   ]
  },
  {
   "cell_type": "code",
   "execution_count": 144,
   "id": "d0c5bfac-0d24-475c-be84-5a4b9cc0a4db",
   "metadata": {},
   "outputs": [
    {
     "data": {
      "text/html": [
       "<div>\n",
       "<style scoped>\n",
       "    .dataframe tbody tr th:only-of-type {\n",
       "        vertical-align: middle;\n",
       "    }\n",
       "\n",
       "    .dataframe tbody tr th {\n",
       "        vertical-align: top;\n",
       "    }\n",
       "\n",
       "    .dataframe thead th {\n",
       "        text-align: right;\n",
       "    }\n",
       "</style>\n",
       "<table border=\"1\" class=\"dataframe\">\n",
       "  <thead>\n",
       "    <tr style=\"text-align: right;\">\n",
       "      <th></th>\n",
       "      <th>MV Portfolio Weights</th>\n",
       "    </tr>\n",
       "  </thead>\n",
       "  <tbody>\n",
       "    <tr>\n",
       "      <th>BWX</th>\n",
       "      <td>-0.693614</td>\n",
       "    </tr>\n",
       "    <tr>\n",
       "      <th>DBC</th>\n",
       "      <td>0.150896</td>\n",
       "    </tr>\n",
       "    <tr>\n",
       "      <th>EEM</th>\n",
       "      <td>0.191055</td>\n",
       "    </tr>\n",
       "    <tr>\n",
       "      <th>EFA</th>\n",
       "      <td>-0.091857</td>\n",
       "    </tr>\n",
       "    <tr>\n",
       "      <th>HYG</th>\n",
       "      <td>0.555275</td>\n",
       "    </tr>\n",
       "    <tr>\n",
       "      <th>IEF</th>\n",
       "      <td>1.535086</td>\n",
       "    </tr>\n",
       "    <tr>\n",
       "      <th>IYR</th>\n",
       "      <td>-0.153716</td>\n",
       "    </tr>\n",
       "    <tr>\n",
       "      <th>PSP</th>\n",
       "      <td>-0.255394</td>\n",
       "    </tr>\n",
       "    <tr>\n",
       "      <th>QAI</th>\n",
       "      <td>-2.052413</td>\n",
       "    </tr>\n",
       "    <tr>\n",
       "      <th>SPY</th>\n",
       "      <td>1.301270</td>\n",
       "    </tr>\n",
       "  </tbody>\n",
       "</table>\n",
       "</div>"
      ],
      "text/plain": [
       "     MV Portfolio Weights\n",
       "BWX             -0.693614\n",
       "DBC              0.150896\n",
       "EEM              0.191055\n",
       "EFA             -0.091857\n",
       "HYG              0.555275\n",
       "IEF              1.535086\n",
       "IYR             -0.153716\n",
       "PSP             -0.255394\n",
       "QAI             -2.052413\n",
       "SPY              1.301270"
      ]
     },
     "execution_count": 144,
     "metadata": {},
     "output_type": "execute_result"
    }
   ],
   "source": [
    "TR_no_TIP = TR.drop(columns = ['TIP'])\n",
    "\n",
    "omega_star_no_TIP, mu_no_TIP, Sigma_no_TIP = target_MV_portfolio(TR_no_TIP, 0.015)\n",
    "\n",
    "omega_star_no_TIP.to_frame('MV Portfolio Weights')"
   ]
  },
  {
   "cell_type": "code",
   "execution_count": 147,
   "id": "94581e99-3cff-4470-be89-ba375e484954",
   "metadata": {},
   "outputs": [
    {
     "data": {
      "text/html": [
       "<div>\n",
       "<style scoped>\n",
       "    .dataframe tbody tr th:only-of-type {\n",
       "        vertical-align: middle;\n",
       "    }\n",
       "\n",
       "    .dataframe tbody tr th {\n",
       "        vertical-align: top;\n",
       "    }\n",
       "\n",
       "    .dataframe thead th {\n",
       "        text-align: right;\n",
       "    }\n",
       "</style>\n",
       "<table border=\"1\" class=\"dataframe\">\n",
       "  <thead>\n",
       "    <tr style=\"text-align: right;\">\n",
       "      <th></th>\n",
       "      <th>Portfolio Stats</th>\n",
       "    </tr>\n",
       "  </thead>\n",
       "  <tbody>\n",
       "    <tr>\n",
       "      <th>Mean</th>\n",
       "      <td>0.1800</td>\n",
       "    </tr>\n",
       "    <tr>\n",
       "      <th>Volatility</th>\n",
       "      <td>0.0928</td>\n",
       "    </tr>\n",
       "    <tr>\n",
       "      <th>Sharpe</th>\n",
       "      <td>1.9390</td>\n",
       "    </tr>\n",
       "  </tbody>\n",
       "</table>\n",
       "</div>"
      ],
      "text/plain": [
       "            Portfolio Stats\n",
       "Mean                 0.1800\n",
       "Volatility           0.0928\n",
       "Sharpe               1.9390"
      ]
     },
     "execution_count": 147,
     "metadata": {},
     "output_type": "execute_result"
    }
   ],
   "source": [
    "portfolio_stats(omega_star_no_TIP, mu_no_TIP, Sigma_no_TIP, 12)"
   ]
  },
  {
   "cell_type": "markdown",
   "id": "f722c2b3-5c7e-4711-a9a7-4f5094a9cff0",
   "metadata": {},
   "source": [
    "The Sharpe Ratio decreases by 0.5284% when TIP is removed from the portfolio."
   ]
  },
  {
   "cell_type": "markdown",
   "id": "1f81c926-1194-4239-a674-2e49efd8c598",
   "metadata": {},
   "source": [
    "## 7. Out of Sample Performance"
   ]
  },
  {
   "cell_type": "markdown",
   "id": "e752a0cc-d17e-453b-9ed6-c942dceca45a",
   "metadata": {},
   "source": [
    "### (a)"
   ]
  },
  {
   "cell_type": "code",
   "execution_count": 149,
   "id": "52457259-3ef1-42b8-9e5d-0fb7f15007ef",
   "metadata": {},
   "outputs": [
    {
     "data": {
      "text/html": [
       "<div>\n",
       "<style scoped>\n",
       "    .dataframe tbody tr th:only-of-type {\n",
       "        vertical-align: middle;\n",
       "    }\n",
       "\n",
       "    .dataframe tbody tr th {\n",
       "        vertical-align: top;\n",
       "    }\n",
       "\n",
       "    .dataframe thead th {\n",
       "        text-align: right;\n",
       "    }\n",
       "</style>\n",
       "<table border=\"1\" class=\"dataframe\">\n",
       "  <thead>\n",
       "    <tr style=\"text-align: right;\">\n",
       "      <th></th>\n",
       "      <th>MV Weights</th>\n",
       "    </tr>\n",
       "  </thead>\n",
       "  <tbody>\n",
       "    <tr>\n",
       "      <th>BWX</th>\n",
       "      <td>-0.258101</td>\n",
       "    </tr>\n",
       "    <tr>\n",
       "      <th>DBC</th>\n",
       "      <td>-0.012409</td>\n",
       "    </tr>\n",
       "    <tr>\n",
       "      <th>EEM</th>\n",
       "      <td>0.009344</td>\n",
       "    </tr>\n",
       "    <tr>\n",
       "      <th>EFA</th>\n",
       "      <td>-0.060502</td>\n",
       "    </tr>\n",
       "    <tr>\n",
       "      <th>HYG</th>\n",
       "      <td>0.659440</td>\n",
       "    </tr>\n",
       "    <tr>\n",
       "      <th>IEF</th>\n",
       "      <td>1.189181</td>\n",
       "    </tr>\n",
       "    <tr>\n",
       "      <th>IYR</th>\n",
       "      <td>-0.257300</td>\n",
       "    </tr>\n",
       "    <tr>\n",
       "      <th>PSP</th>\n",
       "      <td>-0.083399</td>\n",
       "    </tr>\n",
       "    <tr>\n",
       "      <th>QAI</th>\n",
       "      <td>-1.647846</td>\n",
       "    </tr>\n",
       "    <tr>\n",
       "      <th>SPY</th>\n",
       "      <td>1.117640</td>\n",
       "    </tr>\n",
       "    <tr>\n",
       "      <th>TIP</th>\n",
       "      <td>0.290928</td>\n",
       "    </tr>\n",
       "  </tbody>\n",
       "</table>\n",
       "</div>"
      ],
      "text/plain": [
       "     MV Weights\n",
       "BWX   -0.258101\n",
       "DBC   -0.012409\n",
       "EEM    0.009344\n",
       "EFA   -0.060502\n",
       "HYG    0.659440\n",
       "IEF    1.189181\n",
       "IYR   -0.257300\n",
       "PSP   -0.083399\n",
       "QAI   -1.647846\n",
       "SPY    1.117640\n",
       "TIP    0.290928"
      ]
     },
     "execution_count": 149,
     "metadata": {},
     "output_type": "execute_result"
    }
   ],
   "source": [
    "TR_2021 = TR.loc[:'2021']\n",
    "\n",
    "omega_p, mu_p, Sigma_p = target_MV_portfolio(TR_2021, 0.015, diagonalize_Sigma=False)\n",
    "\n",
    "omega_p.to_frame('MV Weights')"
   ]
  },
  {
   "cell_type": "markdown",
   "id": "27781fa9-35f7-4cce-b8c3-0a8c2ebbe5d4",
   "metadata": {},
   "source": [
    "### (b)"
   ]
  },
  {
   "cell_type": "code",
   "execution_count": 150,
   "id": "785559d9-e487-439a-9486-f5bcf2482013",
   "metadata": {},
   "outputs": [
    {
     "data": {
      "text/html": [
       "<div>\n",
       "<style scoped>\n",
       "    .dataframe tbody tr th:only-of-type {\n",
       "        vertical-align: middle;\n",
       "    }\n",
       "\n",
       "    .dataframe tbody tr th {\n",
       "        vertical-align: top;\n",
       "    }\n",
       "\n",
       "    .dataframe thead th {\n",
       "        text-align: right;\n",
       "    }\n",
       "</style>\n",
       "<table border=\"1\" class=\"dataframe\">\n",
       "  <thead>\n",
       "    <tr style=\"text-align: right;\">\n",
       "      <th></th>\n",
       "      <th>Portfolio Stats</th>\n",
       "    </tr>\n",
       "  </thead>\n",
       "  <tbody>\n",
       "    <tr>\n",
       "      <th>Mean</th>\n",
       "      <td>0.1800</td>\n",
       "    </tr>\n",
       "    <tr>\n",
       "      <th>Volatility</th>\n",
       "      <td>0.0780</td>\n",
       "    </tr>\n",
       "    <tr>\n",
       "      <th>Sharpe</th>\n",
       "      <td>2.3085</td>\n",
       "    </tr>\n",
       "  </tbody>\n",
       "</table>\n",
       "</div>"
      ],
      "text/plain": [
       "            Portfolio Stats\n",
       "Mean                 0.1800\n",
       "Volatility           0.0780\n",
       "Sharpe               2.3085"
      ]
     },
     "execution_count": 150,
     "metadata": {},
     "output_type": "execute_result"
    }
   ],
   "source": [
    "omega_2021, mu_2021, Sigma_2021 = tangency_vector(TR_2021)\n",
    "\n",
    "portfolio_stats(omega_p, mu_2021, Sigma_2021, 12)"
   ]
  },
  {
   "cell_type": "markdown",
   "id": "8446df86-3762-4e36-b230-2657ed57d71f",
   "metadata": {},
   "source": [
    "### (c)"
   ]
  },
  {
   "cell_type": "code",
   "execution_count": 151,
   "id": "4b9cff13-2373-4f08-841e-3265aac6822d",
   "metadata": {},
   "outputs": [
    {
     "data": {
      "text/html": [
       "<div>\n",
       "<style scoped>\n",
       "    .dataframe tbody tr th:only-of-type {\n",
       "        vertical-align: middle;\n",
       "    }\n",
       "\n",
       "    .dataframe tbody tr th {\n",
       "        vertical-align: top;\n",
       "    }\n",
       "\n",
       "    .dataframe thead th {\n",
       "        text-align: right;\n",
       "    }\n",
       "</style>\n",
       "<table border=\"1\" class=\"dataframe\">\n",
       "  <thead>\n",
       "    <tr style=\"text-align: right;\">\n",
       "      <th></th>\n",
       "      <th>Portfolio Stats</th>\n",
       "    </tr>\n",
       "  </thead>\n",
       "  <tbody>\n",
       "    <tr>\n",
       "      <th>Mean</th>\n",
       "      <td>0.1627</td>\n",
       "    </tr>\n",
       "    <tr>\n",
       "      <th>Volatility</th>\n",
       "      <td>0.0924</td>\n",
       "    </tr>\n",
       "    <tr>\n",
       "      <th>Sharpe</th>\n",
       "      <td>1.7613</td>\n",
       "    </tr>\n",
       "  </tbody>\n",
       "</table>\n",
       "</div>"
      ],
      "text/plain": [
       "            Portfolio Stats\n",
       "Mean                 0.1627\n",
       "Volatility           0.0924\n",
       "Sharpe               1.7613"
      ]
     },
     "execution_count": 151,
     "metadata": {},
     "output_type": "execute_result"
    }
   ],
   "source": [
    "TR_2022 = TR.loc[:'2022']\n",
    "\n",
    "omega_2022, mu_2022, Sigma_2022 = tangency_vector(TR_2022)\n",
    "\n",
    "portfolio_stats(omega_p, mu_2022, Sigma_2022, 12)"
   ]
  }
 ],
 "metadata": {
  "kernelspec": {
   "display_name": "Python 3 (ipykernel)",
   "language": "python",
   "name": "python3"
  },
  "language_info": {
   "codemirror_mode": {
    "name": "ipython",
    "version": 3
   },
   "file_extension": ".py",
   "mimetype": "text/x-python",
   "name": "python",
   "nbconvert_exporter": "python",
   "pygments_lexer": "ipython3",
   "version": "3.9.12"
  }
 },
 "nbformat": 4,
 "nbformat_minor": 5
}
